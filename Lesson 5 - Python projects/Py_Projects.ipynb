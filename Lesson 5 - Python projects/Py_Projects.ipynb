{
 "cells": [
  {
   "cell_type": "markdown",
   "metadata": {},
   "source": [
    "# Creative Writing"
   ]
  },
  {
   "cell_type": "markdown",
   "metadata": {},
   "source": [
    "## Speak"
   ]
  },
  {
   "cell_type": "code",
   "execution_count": 1,
   "metadata": {
    "collapsed": false
   },
   "outputs": [
    {
     "name": "stdout",
     "output_type": "stream",
     "text": [
      "Bark\n"
     ]
    }
   ],
   "source": [
    "# Double Quote\n",
    "print(\"Bark\")"
   ]
  },
  {
   "cell_type": "markdown",
   "metadata": {},
   "source": [
    "## Automate Boring Songs"
   ]
  },
  {
   "cell_type": "code",
   "execution_count": 2,
   "metadata": {
    "collapsed": false
   },
   "outputs": [
    {
     "name": "stdout",
     "output_type": "stream",
     "text": [
      "99 bottles of beer on the wall, 99 bottles of beer on the wall\n",
      "So take it down, pass it around, 99 more bottles of beer on the wall\n",
      "98 bottles of beer on the wall, 98 bottles of beer on the wall\n",
      "So take it down, pass it around, 98 more bottles of beer on the wall\n",
      "97 bottles of beer on the wall, 97 bottles of beer on the wall\n",
      "So take it down, pass it around, 97 more bottles of beer on the wall\n",
      "96 bottles of beer on the wall, 96 bottles of beer on the wall\n",
      "So take it down, pass it around, 96 more bottles of beer on the wall\n",
      "95 bottles of beer on the wall, 95 bottles of beer on the wall\n",
      "So take it down, pass it around, 95 more bottles of beer on the wall\n",
      "94 bottles of beer on the wall, 94 bottles of beer on the wall\n",
      "So take it down, pass it around, 94 more bottles of beer on the wall\n",
      "93 bottles of beer on the wall, 93 bottles of beer on the wall\n",
      "So take it down, pass it around, 93 more bottles of beer on the wall\n",
      "92 bottles of beer on the wall, 92 bottles of beer on the wall\n",
      "So take it down, pass it around, 92 more bottles of beer on the wall\n",
      "91 bottles of beer on the wall, 91 bottles of beer on the wall\n",
      "So take it down, pass it around, 91 more bottles of beer on the wall\n",
      "90 bottles of beer on the wall, 90 bottles of beer on the wall\n",
      "So take it down, pass it around, 90 more bottles of beer on the wall\n",
      "89 bottles of beer on the wall, 89 bottles of beer on the wall\n",
      "So take it down, pass it around, 89 more bottles of beer on the wall\n",
      "88 bottles of beer on the wall, 88 bottles of beer on the wall\n",
      "So take it down, pass it around, 88 more bottles of beer on the wall\n",
      "87 bottles of beer on the wall, 87 bottles of beer on the wall\n",
      "So take it down, pass it around, 87 more bottles of beer on the wall\n",
      "86 bottles of beer on the wall, 86 bottles of beer on the wall\n",
      "So take it down, pass it around, 86 more bottles of beer on the wall\n",
      "85 bottles of beer on the wall, 85 bottles of beer on the wall\n",
      "So take it down, pass it around, 85 more bottles of beer on the wall\n",
      "84 bottles of beer on the wall, 84 bottles of beer on the wall\n",
      "So take it down, pass it around, 84 more bottles of beer on the wall\n",
      "83 bottles of beer on the wall, 83 bottles of beer on the wall\n",
      "So take it down, pass it around, 83 more bottles of beer on the wall\n",
      "82 bottles of beer on the wall, 82 bottles of beer on the wall\n",
      "So take it down, pass it around, 82 more bottles of beer on the wall\n",
      "81 bottles of beer on the wall, 81 bottles of beer on the wall\n",
      "So take it down, pass it around, 81 more bottles of beer on the wall\n",
      "80 bottles of beer on the wall, 80 bottles of beer on the wall\n",
      "So take it down, pass it around, 80 more bottles of beer on the wall\n",
      "79 bottles of beer on the wall, 79 bottles of beer on the wall\n",
      "So take it down, pass it around, 79 more bottles of beer on the wall\n",
      "78 bottles of beer on the wall, 78 bottles of beer on the wall\n",
      "So take it down, pass it around, 78 more bottles of beer on the wall\n",
      "77 bottles of beer on the wall, 77 bottles of beer on the wall\n",
      "So take it down, pass it around, 77 more bottles of beer on the wall\n",
      "76 bottles of beer on the wall, 76 bottles of beer on the wall\n",
      "So take it down, pass it around, 76 more bottles of beer on the wall\n",
      "75 bottles of beer on the wall, 75 bottles of beer on the wall\n",
      "So take it down, pass it around, 75 more bottles of beer on the wall\n",
      "74 bottles of beer on the wall, 74 bottles of beer on the wall\n",
      "So take it down, pass it around, 74 more bottles of beer on the wall\n",
      "73 bottles of beer on the wall, 73 bottles of beer on the wall\n",
      "So take it down, pass it around, 73 more bottles of beer on the wall\n",
      "72 bottles of beer on the wall, 72 bottles of beer on the wall\n",
      "So take it down, pass it around, 72 more bottles of beer on the wall\n",
      "71 bottles of beer on the wall, 71 bottles of beer on the wall\n",
      "So take it down, pass it around, 71 more bottles of beer on the wall\n",
      "70 bottles of beer on the wall, 70 bottles of beer on the wall\n",
      "So take it down, pass it around, 70 more bottles of beer on the wall\n",
      "69 bottles of beer on the wall, 69 bottles of beer on the wall\n",
      "So take it down, pass it around, 69 more bottles of beer on the wall\n",
      "68 bottles of beer on the wall, 68 bottles of beer on the wall\n",
      "So take it down, pass it around, 68 more bottles of beer on the wall\n",
      "67 bottles of beer on the wall, 67 bottles of beer on the wall\n",
      "So take it down, pass it around, 67 more bottles of beer on the wall\n",
      "66 bottles of beer on the wall, 66 bottles of beer on the wall\n",
      "So take it down, pass it around, 66 more bottles of beer on the wall\n",
      "65 bottles of beer on the wall, 65 bottles of beer on the wall\n",
      "So take it down, pass it around, 65 more bottles of beer on the wall\n",
      "64 bottles of beer on the wall, 64 bottles of beer on the wall\n",
      "So take it down, pass it around, 64 more bottles of beer on the wall\n",
      "63 bottles of beer on the wall, 63 bottles of beer on the wall\n",
      "So take it down, pass it around, 63 more bottles of beer on the wall\n",
      "62 bottles of beer on the wall, 62 bottles of beer on the wall\n",
      "So take it down, pass it around, 62 more bottles of beer on the wall\n",
      "61 bottles of beer on the wall, 61 bottles of beer on the wall\n",
      "So take it down, pass it around, 61 more bottles of beer on the wall\n",
      "60 bottles of beer on the wall, 60 bottles of beer on the wall\n",
      "So take it down, pass it around, 60 more bottles of beer on the wall\n",
      "59 bottles of beer on the wall, 59 bottles of beer on the wall\n",
      "So take it down, pass it around, 59 more bottles of beer on the wall\n",
      "58 bottles of beer on the wall, 58 bottles of beer on the wall\n",
      "So take it down, pass it around, 58 more bottles of beer on the wall\n",
      "57 bottles of beer on the wall, 57 bottles of beer on the wall\n",
      "So take it down, pass it around, 57 more bottles of beer on the wall\n",
      "56 bottles of beer on the wall, 56 bottles of beer on the wall\n",
      "So take it down, pass it around, 56 more bottles of beer on the wall\n",
      "55 bottles of beer on the wall, 55 bottles of beer on the wall\n",
      "So take it down, pass it around, 55 more bottles of beer on the wall\n",
      "54 bottles of beer on the wall, 54 bottles of beer on the wall\n",
      "So take it down, pass it around, 54 more bottles of beer on the wall\n",
      "53 bottles of beer on the wall, 53 bottles of beer on the wall\n",
      "So take it down, pass it around, 53 more bottles of beer on the wall\n",
      "52 bottles of beer on the wall, 52 bottles of beer on the wall\n",
      "So take it down, pass it around, 52 more bottles of beer on the wall\n",
      "51 bottles of beer on the wall, 51 bottles of beer on the wall\n",
      "So take it down, pass it around, 51 more bottles of beer on the wall\n",
      "50 bottles of beer on the wall, 50 bottles of beer on the wall\n",
      "So take it down, pass it around, 50 more bottles of beer on the wall\n",
      "49 bottles of beer on the wall, 49 bottles of beer on the wall\n",
      "So take it down, pass it around, 49 more bottles of beer on the wall\n",
      "48 bottles of beer on the wall, 48 bottles of beer on the wall\n",
      "So take it down, pass it around, 48 more bottles of beer on the wall\n",
      "47 bottles of beer on the wall, 47 bottles of beer on the wall\n",
      "So take it down, pass it around, 47 more bottles of beer on the wall\n",
      "46 bottles of beer on the wall, 46 bottles of beer on the wall\n",
      "So take it down, pass it around, 46 more bottles of beer on the wall\n",
      "45 bottles of beer on the wall, 45 bottles of beer on the wall\n",
      "So take it down, pass it around, 45 more bottles of beer on the wall\n",
      "44 bottles of beer on the wall, 44 bottles of beer on the wall\n",
      "So take it down, pass it around, 44 more bottles of beer on the wall\n",
      "43 bottles of beer on the wall, 43 bottles of beer on the wall\n",
      "So take it down, pass it around, 43 more bottles of beer on the wall\n",
      "42 bottles of beer on the wall, 42 bottles of beer on the wall\n",
      "So take it down, pass it around, 42 more bottles of beer on the wall\n",
      "41 bottles of beer on the wall, 41 bottles of beer on the wall\n",
      "So take it down, pass it around, 41 more bottles of beer on the wall\n",
      "40 bottles of beer on the wall, 40 bottles of beer on the wall\n",
      "So take it down, pass it around, 40 more bottles of beer on the wall\n",
      "39 bottles of beer on the wall, 39 bottles of beer on the wall\n",
      "So take it down, pass it around, 39 more bottles of beer on the wall\n",
      "38 bottles of beer on the wall, 38 bottles of beer on the wall\n",
      "So take it down, pass it around, 38 more bottles of beer on the wall\n",
      "37 bottles of beer on the wall, 37 bottles of beer on the wall\n",
      "So take it down, pass it around, 37 more bottles of beer on the wall\n",
      "36 bottles of beer on the wall, 36 bottles of beer on the wall\n",
      "So take it down, pass it around, 36 more bottles of beer on the wall\n",
      "35 bottles of beer on the wall, 35 bottles of beer on the wall\n",
      "So take it down, pass it around, 35 more bottles of beer on the wall\n",
      "34 bottles of beer on the wall, 34 bottles of beer on the wall\n",
      "So take it down, pass it around, 34 more bottles of beer on the wall\n",
      "33 bottles of beer on the wall, 33 bottles of beer on the wall\n",
      "So take it down, pass it around, 33 more bottles of beer on the wall\n",
      "32 bottles of beer on the wall, 32 bottles of beer on the wall\n",
      "So take it down, pass it around, 32 more bottles of beer on the wall\n",
      "31 bottles of beer on the wall, 31 bottles of beer on the wall\n",
      "So take it down, pass it around, 31 more bottles of beer on the wall\n",
      "30 bottles of beer on the wall, 30 bottles of beer on the wall\n",
      "So take it down, pass it around, 30 more bottles of beer on the wall\n",
      "29 bottles of beer on the wall, 29 bottles of beer on the wall\n",
      "So take it down, pass it around, 29 more bottles of beer on the wall\n",
      "28 bottles of beer on the wall, 28 bottles of beer on the wall\n",
      "So take it down, pass it around, 28 more bottles of beer on the wall\n",
      "27 bottles of beer on the wall, 27 bottles of beer on the wall\n",
      "So take it down, pass it around, 27 more bottles of beer on the wall\n",
      "26 bottles of beer on the wall, 26 bottles of beer on the wall\n",
      "So take it down, pass it around, 26 more bottles of beer on the wall\n",
      "25 bottles of beer on the wall, 25 bottles of beer on the wall\n",
      "So take it down, pass it around, 25 more bottles of beer on the wall\n",
      "24 bottles of beer on the wall, 24 bottles of beer on the wall\n",
      "So take it down, pass it around, 24 more bottles of beer on the wall\n",
      "23 bottles of beer on the wall, 23 bottles of beer on the wall\n",
      "So take it down, pass it around, 23 more bottles of beer on the wall\n",
      "22 bottles of beer on the wall, 22 bottles of beer on the wall\n",
      "So take it down, pass it around, 22 more bottles of beer on the wall\n",
      "21 bottles of beer on the wall, 21 bottles of beer on the wall\n",
      "So take it down, pass it around, 21 more bottles of beer on the wall\n",
      "20 bottles of beer on the wall, 20 bottles of beer on the wall\n",
      "So take it down, pass it around, 20 more bottles of beer on the wall\n",
      "19 bottles of beer on the wall, 19 bottles of beer on the wall\n",
      "So take it down, pass it around, 19 more bottles of beer on the wall\n",
      "18 bottles of beer on the wall, 18 bottles of beer on the wall\n",
      "So take it down, pass it around, 18 more bottles of beer on the wall\n",
      "17 bottles of beer on the wall, 17 bottles of beer on the wall\n",
      "So take it down, pass it around, 17 more bottles of beer on the wall\n",
      "16 bottles of beer on the wall, 16 bottles of beer on the wall\n",
      "So take it down, pass it around, 16 more bottles of beer on the wall\n",
      "15 bottles of beer on the wall, 15 bottles of beer on the wall\n",
      "So take it down, pass it around, 15 more bottles of beer on the wall\n",
      "14 bottles of beer on the wall, 14 bottles of beer on the wall\n",
      "So take it down, pass it around, 14 more bottles of beer on the wall\n",
      "13 bottles of beer on the wall, 13 bottles of beer on the wall\n",
      "So take it down, pass it around, 13 more bottles of beer on the wall\n",
      "12 bottles of beer on the wall, 12 bottles of beer on the wall\n",
      "So take it down, pass it around, 12 more bottles of beer on the wall\n",
      "11 bottles of beer on the wall, 11 bottles of beer on the wall\n",
      "So take it down, pass it around, 11 more bottles of beer on the wall\n",
      "10 bottles of beer on the wall, 10 bottles of beer on the wall\n",
      "So take it down, pass it around, 10 more bottles of beer on the wall\n",
      "9 bottles of beer on the wall, 9 bottles of beer on the wall\n",
      "So take it down, pass it around, 9 more bottles of beer on the wall\n",
      "8 bottles of beer on the wall, 8 bottles of beer on the wall\n",
      "So take it down, pass it around, 8 more bottles of beer on the wall\n",
      "7 bottles of beer on the wall, 7 bottles of beer on the wall\n",
      "So take it down, pass it around, 7 more bottles of beer on the wall\n",
      "6 bottles of beer on the wall, 6 bottles of beer on the wall\n",
      "So take it down, pass it around, 6 more bottles of beer on the wall\n",
      "5 bottles of beer on the wall, 5 bottles of beer on the wall\n",
      "So take it down, pass it around, 5 more bottles of beer on the wall\n",
      "4 bottles of beer on the wall, 4 bottles of beer on the wall\n",
      "So take it down, pass it around, 4 more bottles of beer on the wall\n",
      "3 bottles of beer on the wall, 3 bottles of beer on the wall\n",
      "So take it down, pass it around, 3 more bottles of beer on the wall\n",
      "2 more bottles of beer on the wall, 1 bottle of beer!\n",
      "So take it down, pass it around, 1 more bottles of beer on the wall\n",
      "1 Bottle of beer on the wall, 1 bottle of beer!\n",
      "So take it down, pass it around, 1 more bottles of beer on the wall\n"
     ]
    }
   ],
   "source": [
    "# 99 bottles of Beers on the Wall:\n",
    "for i in range(99, 0, -1):\n",
    "    if i == 1:\n",
    "        print(\"1 Bottle of beer on the wall, 1 bottle of beer!\")\n",
    "        print(\"So take it down, pass it around, 1 more bottles of beer on the wall\")\n",
    "    elif i == 2:\n",
    "        print(\"2 more bottles of beer on the wall, 1 bottle of beer!\")\n",
    "        print(\"So take it down, pass it around, 1 more bottles of beer on the wall\")\n",
    "    else:\n",
    "        print(\"{0} bottles of beer on the wall, {0} bottles of beer on the wall\".format(i))\n",
    "        print(\"So take it down, pass it around, {0} more bottles of beer on the wall\".format(i))"
   ]
  },
  {
   "cell_type": "markdown",
   "metadata": {},
   "source": [
    "## Make Interative Jokes"
   ]
  },
  {
   "cell_type": "code",
   "execution_count": 3,
   "metadata": {
    "collapsed": false
   },
   "outputs": [
    {
     "name": "stdout",
     "output_type": "stream",
     "text": [
      "What do you get when you cross a snowman with a vampire?\n",
      "Um... not sure?\n",
      "FrostBite!\n"
     ]
    },
    {
     "data": {
      "text/plain": [
       "<function print>"
      ]
     },
     "execution_count": 3,
     "metadata": {},
     "output_type": "execute_result"
    }
   ],
   "source": [
    "# interactive Jokes\n",
    "print(\"What do you get when you cross a snowman with a vampire?\")\n",
    "input()\n",
    "print(\"FrostBite!\")\n",
    "print"
   ]
  },
  {
   "cell_type": "markdown",
   "metadata": {},
   "source": [
    "## Randomly Pick Character"
   ]
  },
  {
   "cell_type": "code",
   "execution_count": 4,
   "metadata": {
    "collapsed": false
   },
   "outputs": [
    {
     "data": {
      "text/plain": [
       "'h'"
      ]
     },
     "execution_count": 4,
     "metadata": {},
     "output_type": "execute_result"
    }
   ],
   "source": [
    "import random\n",
    "random.choice('The quick brown fox jumps over the lazy dog')"
   ]
  },
  {
   "cell_type": "markdown",
   "metadata": {},
   "source": [
    "## Identify Positions"
   ]
  },
  {
   "cell_type": "code",
   "execution_count": 5,
   "metadata": {
    "collapsed": false
   },
   "outputs": [
    {
     "data": {
      "text/plain": [
       "33"
      ]
     },
     "execution_count": 5,
     "metadata": {},
     "output_type": "execute_result"
    }
   ],
   "source": [
    "str_minds = \"Great minds discuss ideas; small minds discuss sardine size.\"\n",
    "\n",
    "def find_second(search, target):\n",
    "    first = search.find(target)\n",
    "    second = search.find(target, first+1)\n",
    "    return second\n",
    "find_second(str_minds, 'minds')"
   ]
  },
  {
   "cell_type": "markdown",
   "metadata": {},
   "source": [
    "## Remove Vowels"
   ]
  },
  {
   "cell_type": "code",
   "execution_count": 6,
   "metadata": {
    "collapsed": false
   },
   "outputs": [
    {
     "data": {
      "text/plain": [
       "\"Hs nyn sn tht whstl? t's slvr? \""
      ]
     },
     "execution_count": 6,
     "metadata": {},
     "output_type": "execute_result"
    }
   ],
   "source": [
    "def anti_vowel(text):\n",
    "    new_word = ''\n",
    "    for i in text:\n",
    "        if i not in 'aeiouAEIOU':\n",
    "            new_word += i\n",
    "    return new_word\n",
    "\n",
    "anti_vowel(\"Has anyone seen that whistle? It's silver? \")"
   ]
  },
  {
   "cell_type": "markdown",
   "metadata": {},
   "source": [
    "## Reversing A String"
   ]
  },
  {
   "cell_type": "code",
   "execution_count": 7,
   "metadata": {
    "collapsed": true
   },
   "outputs": [],
   "source": [
    "def reverse_text(text):\n",
    "    count = len(text) - 1\n",
    "    out = []\n",
    "    while (count > -1):\n",
    "        out.append(text[count])\n",
    "        count -= 1\n",
    "        print(out)\n",
    "    \n",
    "    new = ''\n",
    "    return new.join(out)"
   ]
  },
  {
   "cell_type": "code",
   "execution_count": 8,
   "metadata": {
    "collapsed": true
   },
   "outputs": [],
   "source": [
    "boobytrap = 'boobytrap'"
   ]
  },
  {
   "cell_type": "code",
   "execution_count": 9,
   "metadata": {
    "collapsed": false
   },
   "outputs": [
    {
     "name": "stdout",
     "output_type": "stream",
     "text": [
      "['p']\n",
      "['p', 'a']\n",
      "['p', 'a', 'r']\n",
      "['p', 'a', 'r', 't']\n",
      "['p', 'a', 'r', 't', 'y']\n",
      "['p', 'a', 'r', 't', 'y', 'b']\n",
      "['p', 'a', 'r', 't', 'y', 'b', 'o']\n",
      "['p', 'a', 'r', 't', 'y', 'b', 'o', 'o']\n",
      "['p', 'a', 'r', 't', 'y', 'b', 'o', 'o', 'b']\n"
     ]
    },
    {
     "data": {
      "text/plain": [
       "'partyboob'"
      ]
     },
     "execution_count": 9,
     "metadata": {},
     "output_type": "execute_result"
    }
   ],
   "source": [
    "reverse_text(boobytrap)"
   ]
  },
  {
   "cell_type": "markdown",
   "metadata": {},
   "source": [
    "## Check For Palindromes"
   ]
  },
  {
   "cell_type": "code",
   "execution_count": 10,
   "metadata": {
    "collapsed": true
   },
   "outputs": [],
   "source": [
    "def is_palindrome(my_str):\n",
    "    my_str = my_str.casefold()\n",
    "    # print(my_str) # casefold is like lowercase but more\n",
    "    \n",
    "    rev_str = reversed(my_str)\n",
    "    \n",
    "    if list(my_str) == list(rev_str):\n",
    "        print(\"Yo, you got a palindrome on yo hand\")\n",
    "    else:\n",
    "        print(\"Are you playing with me? Heck no.\")"
   ]
  },
  {
   "cell_type": "code",
   "execution_count": 11,
   "metadata": {
    "collapsed": false
   },
   "outputs": [
    {
     "name": "stdout",
     "output_type": "stream",
     "text": [
      "Yo, you got a palindrome on yo hand\n"
     ]
    }
   ],
   "source": [
    "is_palindrome('TacoCat')"
   ]
  },
  {
   "cell_type": "markdown",
   "metadata": {},
   "source": [
    "## Pluralize"
   ]
  },
  {
   "cell_type": "code",
   "execution_count": 12,
   "metadata": {
    "collapsed": true
   },
   "outputs": [],
   "source": [
    "def plural(word):\n",
    "    if word.endswith('y'):\n",
    "        return word[:-1] + 'ies'\n",
    "    \n",
    "    elif word.endswith('an'):\n",
    "        return word[:-2] + 'en'\n",
    "    \n",
    "    elif word[-1] in 'sx' or word[-2:] in ['sh', 'ch']:\n",
    "        return word + 'es'\n",
    "\n",
    "    else:\n",
    "        return word + 's'"
   ]
  },
  {
   "cell_type": "code",
   "execution_count": 13,
   "metadata": {
    "collapsed": false
   },
   "outputs": [
    {
     "data": {
      "text/plain": [
       "'Bobs'"
      ]
     },
     "execution_count": 13,
     "metadata": {},
     "output_type": "execute_result"
    }
   ],
   "source": [
    "plural('Bob')"
   ]
  },
  {
   "cell_type": "markdown",
   "metadata": {},
   "source": [
    "# Play With Numbers"
   ]
  },
  {
   "cell_type": "markdown",
   "metadata": {},
   "source": [
    "## Calculator Stuff"
   ]
  },
  {
   "cell_type": "code",
   "execution_count": 14,
   "metadata": {
    "collapsed": false
   },
   "outputs": [
    {
     "data": {
      "text/plain": [
       "9"
      ]
     },
     "execution_count": 14,
     "metadata": {},
     "output_type": "execute_result"
    }
   ],
   "source": [
    "# Multiply\n",
    "3 * 3"
   ]
  },
  {
   "cell_type": "code",
   "execution_count": 15,
   "metadata": {
    "collapsed": false
   },
   "outputs": [
    {
     "data": {
      "text/plain": [
       "27"
      ]
     },
     "execution_count": 15,
     "metadata": {},
     "output_type": "execute_result"
    }
   ],
   "source": [
    "# Power\n",
    "3 ** 3"
   ]
  },
  {
   "cell_type": "code",
   "execution_count": 16,
   "metadata": {
    "collapsed": false
   },
   "outputs": [
    {
     "data": {
      "text/plain": [
       "31.342303680489092"
      ]
     },
     "execution_count": 16,
     "metadata": {},
     "output_type": "execute_result"
    }
   ],
   "source": [
    "import math\n",
    "math.sqrt(982.34)"
   ]
  },
  {
   "cell_type": "markdown",
   "metadata": {},
   "source": [
    "## Solve The Pythagorean Theorem"
   ]
  },
  {
   "cell_type": "code",
   "execution_count": 17,
   "metadata": {
    "collapsed": false
   },
   "outputs": [
    {
     "data": {
      "text/plain": [
       "212"
      ]
     },
     "execution_count": 17,
     "metadata": {},
     "output_type": "execute_result"
    }
   ],
   "source": [
    "# Set vairalbes\n",
    "a = 4\n",
    "b = 14\n",
    "\n",
    "# Equation\n",
    "c_squared = a ** 2 + b ** 2\n",
    "c_squared"
   ]
  },
  {
   "cell_type": "markdown",
   "metadata": {},
   "source": [
    "## Generate Random Numbers"
   ]
  },
  {
   "cell_type": "code",
   "execution_count": 18,
   "metadata": {
    "collapsed": false
   },
   "outputs": [
    {
     "data": {
      "text/plain": [
       "1"
      ]
     },
     "execution_count": 18,
     "metadata": {},
     "output_type": "execute_result"
    }
   ],
   "source": [
    "import random\n",
    "random.randint(1, 20)"
   ]
  },
  {
   "cell_type": "markdown",
   "metadata": {},
   "source": [
    "## Odd or Even Test "
   ]
  },
  {
   "cell_type": "code",
   "execution_count": 19,
   "metadata": {
    "collapsed": false
   },
   "outputs": [
    {
     "name": "stdout",
     "output_type": "stream",
     "text": [
      "True\n",
      "False\n"
     ]
    },
    {
     "data": {
      "text/plain": [
       "False"
      ]
     },
     "execution_count": 19,
     "metadata": {},
     "output_type": "execute_result"
    }
   ],
   "source": [
    "def is_even(x):\n",
    "    result = x % 2 != 1\n",
    "    print(result)\n",
    "    return result\n",
    "\n",
    "is_even(4)\n",
    "is_even(3)"
   ]
  },
  {
   "cell_type": "code",
   "execution_count": 20,
   "metadata": {
    "collapsed": false
   },
   "outputs": [
    {
     "data": {
      "text/plain": [
       "[2, 4, 6, 8, 10]"
      ]
     },
     "execution_count": 20,
     "metadata": {},
     "output_type": "execute_result"
    }
   ],
   "source": [
    "# The modulo operator can help of retrieve interesting patterns from numbers\n",
    "old_list = [1, 2, 3, 4, 5, 6, 7, 8, 9, 10]\n",
    "\n",
    "# Returns odd numbers\n",
    "new_list = []\n",
    "for i in old_list:\n",
    "    if i % 2 == 0:\n",
    "        new_list.append(i)\n",
    "\n",
    "new_list"
   ]
  },
  {
   "cell_type": "markdown",
   "metadata": {},
   "source": [
    "## Trig Homework "
   ]
  },
  {
   "cell_type": "code",
   "execution_count": 21,
   "metadata": {
    "collapsed": true
   },
   "outputs": [],
   "source": [
    "import math"
   ]
  },
  {
   "cell_type": "code",
   "execution_count": 23,
   "metadata": {
    "collapsed": false
   },
   "outputs": [
    {
     "data": {
      "text/plain": [
       "2578.3100780887044"
      ]
     },
     "execution_count": 23,
     "metadata": {},
     "output_type": "execute_result"
    }
   ],
   "source": [
    "# converts angle x from radians to degree.\n",
    "math.degrees(45)"
   ]
  },
  {
   "cell_type": "code",
   "execution_count": 24,
   "metadata": {
    "collapsed": false
   },
   "outputs": [
    {
     "data": {
      "text/plain": [
       "0.7853981633974483"
      ]
     },
     "execution_count": 24,
     "metadata": {},
     "output_type": "execute_result"
    }
   ],
   "source": [
    "math.radians(45)"
   ]
  },
  {
   "cell_type": "code",
   "execution_count": 25,
   "metadata": {
    "collapsed": false
   },
   "outputs": [
    {
     "data": {
      "text/plain": [
       "0.5253219888177297"
      ]
     },
     "execution_count": 25,
     "metadata": {},
     "output_type": "execute_result"
    }
   ],
   "source": [
    "math.cos(45)"
   ]
  },
  {
   "cell_type": "markdown",
   "metadata": {},
   "source": [
    "## Randomizing A Guessing Game"
   ]
  },
  {
   "cell_type": "code",
   "execution_count": 26,
   "metadata": {
    "collapsed": false
   },
   "outputs": [
    {
     "name": "stdout",
     "output_type": "stream",
     "text": [
      "What is your guess? 2\n",
      "What is your guess? 1\n",
      "What is your guess? 7\n",
      "You win!\n"
     ]
    }
   ],
   "source": [
    "# End a while loop early with a break\n",
    "random_number = 7\n",
    "guesses_left = 10\n",
    "while guesses_left > 0:\n",
    "    guess = int(input(\"What is your guess? \"))\n",
    "    if guess == random_number:\n",
    "        print('You win!')\n",
    "        break\n",
    "    guesses_left -= 1\n",
    "else:\n",
    "    print('You lose!')"
   ]
  },
  {
   "cell_type": "markdown",
   "metadata": {},
   "source": [
    "# Automation "
   ]
  },
  {
   "cell_type": "markdown",
   "metadata": {},
   "source": [
    "## Print The Fibonacci Sequence "
   ]
  },
  {
   "cell_type": "code",
   "execution_count": 27,
   "metadata": {
    "collapsed": false
   },
   "outputs": [
    {
     "name": "stdout",
     "output_type": "stream",
     "text": [
      "0\n",
      "1\n",
      "1\n",
      "2\n",
      "3\n",
      "5\n",
      "8\n",
      "13\n",
      "21\n",
      "34\n",
      "55\n",
      "89\n",
      "144\n",
      "233\n"
     ]
    }
   ],
   "source": [
    "a, b = 0, 1\n",
    "for i in range(1, 15):\n",
    "    print(a)\n",
    "    a, b = b, a+b"
   ]
  },
  {
   "cell_type": "markdown",
   "metadata": {},
   "source": [
    "## Solve The FizzBuz Problem "
   ]
  },
  {
   "cell_type": "markdown",
   "metadata": {},
   "source": [
    "* If the number is dividable by 3, print 'Fizz'\n",
    "* If the number is dividable by 5, print 'Buzz'\n",
    "* If the number is dividable by 3 and 5, print 'FizzBuzz'  "
   ]
  },
  {
   "cell_type": "code",
   "execution_count": 30,
   "metadata": {
    "collapsed": false
   },
   "outputs": [
    {
     "name": "stdout",
     "output_type": "stream",
     "text": [
      "1\n",
      "2\n",
      "Fizz\n",
      "4\n",
      "Buzz\n",
      "Fizz\n",
      "7\n",
      "8\n",
      "Fizz\n",
      "Buzz\n"
     ]
    }
   ],
   "source": [
    "# FizzBuzz Solution\n",
    "for count in range(1,11):\n",
    "    if count % 5 == 0 and count % 3 == 0:\n",
    "        print(\"FizzBuzz\")\n",
    "    elif count % 3 == 0:\n",
    "        print ('Fizz')\n",
    "    elif count % 5 == 0:\n",
    "        print('Buzz')\n",
    "    else:\n",
    "        print(count)"
   ]
  },
  {
   "cell_type": "markdown",
   "metadata": {},
   "source": [
    "# Import Packages"
   ]
  },
  {
   "cell_type": "markdown",
   "metadata": {},
   "source": [
    "* Some cells might not run because the required packages might not be installed"
   ]
  },
  {
   "cell_type": "markdown",
   "metadata": {},
   "source": [
    "## Check if it's Dark Outside"
   ]
  },
  {
   "cell_type": "code",
   "execution_count": 32,
   "metadata": {
    "collapsed": false
   },
   "outputs": [
    {
     "name": "stdout",
     "output_type": "stream",
     "text": [
      "Is it dark outside?\n",
      "===============\n",
      "No\n"
     ]
    }
   ],
   "source": [
    "import time\n",
    "print('Is it dark outside?\\n===============')\n",
    "\n",
    "# month_number: sunset-hour\n",
    "dark={\n",
    "    1: 16,\n",
    "    2: 17,\n",
    "    3: 18,\n",
    "    4: 19,\n",
    "    5: 19,\n",
    "    6: 20,\n",
    "    7: 20,\n",
    "    8: 19,\n",
    "    9: 18,\n",
    "    10: 17,\n",
    "    11: 16,\n",
    "    12: 16,\n",
    "}\n",
    "\n",
    "#month_number: sunrise_hour\n",
    "light = {\n",
    "    1: 8,\n",
    "    2: 7,\n",
    "    3: 6,\n",
    "    4: 5,\n",
    "    5: 4,\n",
    "    6: 4,\n",
    "    7: 4,\n",
    "    8: 5,\n",
    "    9: 6,\n",
    "    10: 6,\n",
    "    11: 7,\n",
    "    12: 8\n",
    "}\n",
    "\n",
    "# get the structure containing the current ime\n",
    "time_now = time.localtime()\n",
    "\n",
    "# use the light and dark dictionaries \n",
    "# it's dark if the hour is later than or equal to sunset time\n",
    "# or earlier than the sunrise time\n",
    "if time_now.tm_hour >= dark[time_now.tm_mon] or time_now.tm_hour < light[time_now.tm_mon]: \n",
    "    print(\"Yes\")\n",
    "else:\n",
    "    print('No')"
   ]
  },
  {
   "cell_type": "markdown",
   "metadata": {},
   "source": [
    "## Read A SpreadSheet From The Internet "
   ]
  },
  {
   "cell_type": "code",
   "execution_count": 33,
   "metadata": {
    "collapsed": false
   },
   "outputs": [
    {
     "data": {
      "text/html": [
       "<div>\n",
       "<table border=\"1\" class=\"dataframe\">\n",
       "  <thead>\n",
       "    <tr style=\"text-align: right;\">\n",
       "      <th></th>\n",
       "      <th>Id</th>\n",
       "      <th>Name</th>\n",
       "      <th>Class</th>\n",
       "      <th>Sex</th>\n",
       "      <th>Age</th>\n",
       "      <th>Fare</th>\n",
       "      <th>Survived</th>\n",
       "    </tr>\n",
       "  </thead>\n",
       "  <tbody>\n",
       "    <tr>\n",
       "      <th>0</th>\n",
       "      <td>1</td>\n",
       "      <td>Braund, Mr. Owen Harris</td>\n",
       "      <td>3</td>\n",
       "      <td>male</td>\n",
       "      <td>22.0</td>\n",
       "      <td>7.2500</td>\n",
       "      <td>0</td>\n",
       "    </tr>\n",
       "    <tr>\n",
       "      <th>1</th>\n",
       "      <td>2</td>\n",
       "      <td>Cumings, Mrs. John Bradley (Florence Briggs Th...</td>\n",
       "      <td>1</td>\n",
       "      <td>female</td>\n",
       "      <td>38.0</td>\n",
       "      <td>71.2833</td>\n",
       "      <td>1</td>\n",
       "    </tr>\n",
       "    <tr>\n",
       "      <th>2</th>\n",
       "      <td>3</td>\n",
       "      <td>Heikkinen, Miss. Laina</td>\n",
       "      <td>3</td>\n",
       "      <td>female</td>\n",
       "      <td>26.0</td>\n",
       "      <td>7.9250</td>\n",
       "      <td>1</td>\n",
       "    </tr>\n",
       "    <tr>\n",
       "      <th>3</th>\n",
       "      <td>4</td>\n",
       "      <td>Futrelle, Mrs. Jacques Heath (Lily May Peel)</td>\n",
       "      <td>1</td>\n",
       "      <td>female</td>\n",
       "      <td>35.0</td>\n",
       "      <td>53.1000</td>\n",
       "      <td>1</td>\n",
       "    </tr>\n",
       "    <tr>\n",
       "      <th>4</th>\n",
       "      <td>5</td>\n",
       "      <td>Allen, Mr. William Henry</td>\n",
       "      <td>3</td>\n",
       "      <td>male</td>\n",
       "      <td>35.0</td>\n",
       "      <td>8.0500</td>\n",
       "      <td>0</td>\n",
       "    </tr>\n",
       "  </tbody>\n",
       "</table>\n",
       "</div>"
      ],
      "text/plain": [
       "   Id                                               Name  Class     Sex   Age  \\\n",
       "0   1                            Braund, Mr. Owen Harris      3    male  22.0   \n",
       "1   2  Cumings, Mrs. John Bradley (Florence Briggs Th...      1  female  38.0   \n",
       "2   3                             Heikkinen, Miss. Laina      3  female  26.0   \n",
       "3   4       Futrelle, Mrs. Jacques Heath (Lily May Peel)      1  female  35.0   \n",
       "4   5                           Allen, Mr. William Henry      3    male  35.0   \n",
       "\n",
       "      Fare  Survived  \n",
       "0   7.2500         0  \n",
       "1  71.2833         1  \n",
       "2   7.9250         1  \n",
       "3  53.1000         1  \n",
       "4   8.0500         0  "
      ]
     },
     "execution_count": 33,
     "metadata": {},
     "output_type": "execute_result"
    }
   ],
   "source": [
    "import pandas as pd\n",
    "df = pd.read_csv(\"https://raw.githubusercontent.com/dylanjorgensen/data/master/titanic/titanic.csv\")\n",
    "\n",
    "df.head()"
   ]
  },
  {
   "cell_type": "markdown",
   "metadata": {},
   "source": [
    "## Making A Progress Bar "
   ]
  },
  {
   "cell_type": "code",
   "execution_count": 35,
   "metadata": {
    "collapsed": false
   },
   "outputs": [
    {
     "name": "stderr",
     "output_type": "stream",
     "text": [
      "100%|████████████████████████████████████████████████████████████████████| 9999999/9999999 [00:16<00:00, 604730.88it/s]\n"
     ]
    }
   ],
   "source": [
    "# Display progress bars for loops in your code\n",
    "from tqdm import tqdm\n",
    "\n",
    "items = range(1, 10000000)\n",
    "for item in tqdm(items):\n",
    "    pass"
   ]
  },
  {
   "cell_type": "markdown",
   "metadata": {},
   "source": [
    "## Scrape Jokes off a Website "
   ]
  },
  {
   "cell_type": "code",
   "execution_count": 38,
   "metadata": {
    "collapsed": false
   },
   "outputs": [
    {
     "name": "stdout",
     "output_type": "stream",
     "text": [
      " The Battle of the Nile. Two naval officers were disputing as to the importance of Lord Nelson's victories. They wereunable to agree in opin\n",
      "\n",
      "\n",
      " The Latter. Days of Bonaparte. At the close of the year 1820, Napoleon's health began to fail so as to excite the greatest apprehensions. O\n",
      "\n",
      "\n",
      " An Unrehearsed Stage Effect. A good story is told of a certain actor whose fate it was to represent the inferior personages in the drama, s\n",
      "\n",
      "\n",
      " \" What's in a Name.\" Iremember, says an old writer,a school-fellow of mine who wasa striking instance of the inconvenience ofa remarkableCh\n",
      "\n",
      "\n",
      " The Blessing of Forgiveness. The brave only know how to forgive; it is the most refined and generous pitch of virtue human nature can arriv\n",
      "\n",
      "\n",
      " Parenthesis in Prayer. A pastor of a small congregation of dissenters in the west of Scodand, who,in prayer,often employed terms of familia\n",
      "\n",
      "\n",
      " A Piercing Eye. Miss Pope, one evening in the green-room of the theatre, expatiating in all the warmth of her early enthusiasm on the geniu\n",
      "\n",
      "\n",
      " An Americanism. An American paper says, \"A neighbour of ours informs us that wood goes further when left out of doors, than when housed:— s\n",
      "\n",
      "\n",
      " The Traveller Outdone. Captain BasilHall, whose written stories have charmed all who have read them, was one day endeavouring to enliven a \n",
      "\n",
      "\n",
      " The Vanity of Grand Funerals. The people of England are all extremely fond of expensive funerals, but this is most conspicuous in persons o\n",
      "\n",
      "\n",
      " An Awkward Objection A public-house wife entered her protest, on the occasion of an ordinationof elders, against one of the number, who, sh\n",
      "\n",
      "\n",
      " An Echo in Court. A certain chief justice, on hearing an ass bray, interrupted the late Mr. Curran, in his speech to the jury, by saying, \"\n",
      "\n",
      "\n",
      " A Reason for not Attending Church. A zealous, and in his way a very eminent preacher, whose eloquence is as copious, and far more lucid tha\n",
      "\n",
      "\n",
      " Servants in the Olden Time. D\"ean Ramsay records the following anecdote in his Reminiscences of Scottish Life and Character :\"— The charge \n",
      "\n",
      "\n",
      " Only a Mistake of a Letter Mr. H resides in Fourth Street, New York. His wife,who is aneconomical body, had sent a costly silk gown to aFre\n",
      "\n",
      "\n",
      " An Absent Mind. A certain Scottish professor was not more remarkable for his writings on political economy, than for his frequent unconscio\n",
      "\n",
      "\n",
      " An Old Joke Re-faced. An American dramatist, observing to a friend the thinness of the house at one of the plays, added he supposed it was \n",
      "\n",
      "\n",
      " Travel Talk. In the commercialroom of an hotel in a large town in the north, in which were assembled a number of gentlemen engaged in vario\n",
      "\n",
      "\n",
      " Bonaparte's Estimate of British Sailors. \"Ihad always a high opinion of your seamen,\" said Napoleon one day to O'Meara, in a conversation a\n",
      "\n",
      "\n",
      " The Best Time for Marriage. The best time for marriage willbe towards thirty, for as the younger times are unfit, either to choose or to go\n",
      "\n",
      "\n",
      " A Woman for a Wife. During a visit to England, the Rev. Robert Story, of Roseneath, was urgently advised by EdwardIrving to pay his address\n",
      "\n",
      "\n",
      " A Doctor's Epitaph Doctor I. Letsome wrote the following epitaph for his own tombstone; but it is not likely that he allowed his friends, o\n",
      "\n",
      "\n",
      " The Road to Kew. Theodore Hook, in the supposedcharacter of a Gower Street undergraduate, says :\"One problem was given me to work, which Id\n",
      "\n",
      "\n",
      " An American Love Story. An old gentleman, a merchant, had an only daughter, possessed of the highest attractions,moral,personal, and pecuni\n",
      "\n",
      "\n",
      " A Tough Snuff Story, Mr. Howard Paul, in an account of his trip to the United States, relates an anecdoteof the ingenious skill of the Amer\n",
      "\n",
      "\n",
      " A Tough Snuff Story, Mr. Howard Paul, in an account of his trip to the United States, relates an anecdoteof the ingenious skill of the Amer\n",
      "\n",
      "\n",
      " Salmon versus Sermon. A clergyman inPerthshire, who was more skilful as an angler than popular as a preacher, having fallen into conversati\n",
      "\n",
      "\n",
      " The Right Emphasis Dr. Guthrie, in the course of an address in theNew Free College,remarked that he was often annoyed and vexedbeyond measu\n",
      "\n",
      "\n",
      " Evil-Speaking. Men will refrain from evil-speaking when their fellowmen refrain from evil-hearing.  Unknown  \n",
      "\n",
      "\n",
      " The Advantagesof History. The villain who hasimposed on mankindby his power or cunning, and whom experience could not unmask for a time, is\n",
      "\n",
      "\n",
      " Sleep. Bulwer Lytton says— \"Let youth cherish sleep, the happiest of earthlyboons, while yet it is at their command; for there cometh the d\n",
      "\n",
      "\n",
      " Talking Men and Women. Speaking much is a sign of vanity;for he thatis lavish in words is a niggardin deed.  Unknown  \n",
      "\n",
      "\n",
      " Curious Sepulture. In the burial register of Lymingtou, Hants,there is the following entry:— \"12 August, 1722. This forenoon the body of Sa\n",
      "\n",
      "\n",
      " Curious Advertisement. The following advertisement appeared recently in a daily paper:— To pianoforte makers.— A lady,keeping a first-class\n",
      "\n",
      "\n",
      " Abernethy's Prescription. An Irishman calledin great hasteupon Dr. Abernethy, stating that, \"Be jabers, my boy Tim has swallowed a mouse.\" \n",
      "\n",
      "\n",
      " A Candid Opinion. An Ohio stumper, while making a speech, paused in the midst of it, and exclaimed, \"Now, gentlemen, what do you think?\" In\n",
      "\n",
      "\n",
      " Quid pro Quo. A Frenchman, meeting an English soldier with a Waterloo medal, began sneeringly to animadvert on the British Government for b\n",
      "\n",
      "\n",
      " Whitfield and the Sailors. When Whitfield preached before the seamen at New York, he used the following bold apostrophe :— \"Well, my boys, \n",
      "\n",
      "\n",
      " RowlandHill. Once when preaching at Wapping to a congregation composed chiefly of seafaring men and fisherwomen, he greatly astonished his \n",
      "\n",
      "\n",
      " A \" Savant\" in the Witness Box. Occasionally— very rarely, it must be owned— the witness is, besides being a man of science, a man of the w\n",
      "\n",
      "\n"
     ]
    }
   ],
   "source": [
    "import numpy as np\n",
    "import requests \n",
    "from bs4 import BeautifulSoup\n",
    "\n",
    "headers = {\n",
    "    \"users-agent\" : 'Mozzila/5.0 (iPhone; CPU iPhone OS 9_2 like Mac OS X)'  \n",
    "}\n",
    "url = 'http://victorianhumour.com/jokedb'\n",
    "response = requests.get(url, headers=headers)\n",
    "soup = BeautifulSoup(response.content, 'lxml')\n",
    "j_array = soup.body.find_all('j')\n",
    "\n",
    "for joke in j_array:\n",
    "    print('%s\\n\\n' % joke.text)"
   ]
  },
  {
   "cell_type": "markdown",
   "metadata": {},
   "source": [
    "## Share Data Through an API "
   ]
  },
  {
   "cell_type": "code",
   "execution_count": 42,
   "metadata": {
    "collapsed": false
   },
   "outputs": [
    {
     "name": "stdout",
     "output_type": "stream",
     "text": [
      "{\n",
      "    \"menu\": {\n",
      "        \"id\": \"file\",\n",
      "        \"menuitems\": {\n",
      "            \"close\": {\n",
      "                \"onclick\": \"close()\",\n",
      "                \"value\": \"Close\"\n",
      "            },\n",
      "            \"new\": {\n",
      "                \"onclick\": \"new()\",\n",
      "                \"value\": \"New\"\n",
      "            },\n",
      "            \"open\": {\n",
      "                \"onclick\": \"open()\",\n",
      "                \"value\": \"Open\"\n",
      "            }\n",
      "        },\n",
      "        \"value\": \"File\"\n",
      "    }\n",
      "}\n"
     ]
    }
   ],
   "source": [
    "# using default dictionaries to represent simple tress\n",
    "import json\n",
    "import collections\n",
    "\n",
    "tree = lambda: collections.defaultdict(tree)\n",
    "root = tree()\n",
    "root['menu']['id'] = 'file'\n",
    "root['menu']['value'] = 'File'\n",
    "root['menu']['menuitems']['new']['value'] = 'New'\n",
    "root['menu']['menuitems']['new']['onclick'] = 'new()'\n",
    "root['menu']['menuitems']['open']['value'] = 'Open'\n",
    "root['menu']['menuitems']['open']['onclick'] = 'open()'\n",
    "root['menu']['menuitems']['close']['value'] = 'Close'\n",
    "root['menu']['menuitems']['close']['onclick'] = 'close()'\n",
    "\n",
    "print(json.dumps(root, sort_keys = True, indent = 4, separators = (',', ': ')))"
   ]
  },
  {
   "cell_type": "markdown",
   "metadata": {},
   "source": [
    "## Make a Beautiful Chart "
   ]
  },
  {
   "cell_type": "code",
   "execution_count": 44,
   "metadata": {
    "collapsed": false
   },
   "outputs": [
    {
     "data": {
      "image/png": "[encoded data removed]",
      "text/plain": [
       "<matplotlib.figure.Figure at 0x20cc9a88f98>"
      ]
     },
     "metadata": {},
     "output_type": "display_data"
    }
   ],
   "source": [
    "## Simple demo of a scatter plot\n",
    "import numpy as np\n",
    "import matplotlib.pyplot as plt\n",
    "\n",
    "N = 50\n",
    "x = np.random.rand(N)\n",
    "y = np.random.rand(N)\n",
    "colors = np.random.rand(N)\n",
    "area = np.pi * (15 * np.random.rand(N)) ** 2\n",
    "\n",
    "plt.scatter(x, y, s = area, c = colors, alpha = 0.5)\n",
    "plt.show()"
   ]
  }
 ],
 "metadata": {
  "anaconda-cloud": {},
  "kernelspec": {
   "display_name": "Python [default]",
   "language": "python",
   "name": "python3"
  },
  "language_info": {
   "codemirror_mode": {
    "name": "ipython",
    "version": 3
   },
   "file_extension": ".py",
   "mimetype": "text/x-python",
   "name": "python",
   "nbconvert_exporter": "python",
   "pygments_lexer": "ipython3",
   "version": "3.5.2"
  }
 },
 "nbformat": 4,
 "nbformat_minor": 1
}
