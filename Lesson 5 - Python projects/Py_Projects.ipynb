{
 "cells": [
  {
   "cell_type": "markdown",
   "metadata": {},
   "source": [
    "# Creative Writing"
   ]
  },
  {
   "cell_type": "markdown",
   "metadata": {},
   "source": [
    "## Speak"
   ]
  },
  {
   "cell_type": "code",
   "execution_count": 1,
   "metadata": {
    "collapsed": false
   },
   "outputs": [
    {
     "name": "stdout",
     "output_type": "stream",
     "text": [
      "Bark\n"
     ]
    }
   ],
   "source": [
    "# Double Quote\n",
    "print(\"Bark\")"
   ]
  },
  {
   "cell_type": "markdown",
   "metadata": {},
   "source": [
    "## Automate Boring Songs"
   ]
  },
  {
   "cell_type": "code",
   "execution_count": 2,
   "metadata": {
    "collapsed": false
   },
   "outputs": [
    {
     "name": "stdout",
     "output_type": "stream",
     "text": [
      "99 bottles of beer on the wall, 99 bottles of beer on the wall\n",
      "So take it down, pass it around, 99 more bottles of beer on the wall\n",
      "98 bottles of beer on the wall, 98 bottles of beer on the wall\n",
      "So take it down, pass it around, 98 more bottles of beer on the wall\n",
      "97 bottles of beer on the wall, 97 bottles of beer on the wall\n",
      "So take it down, pass it around, 97 more bottles of beer on the wall\n",
      "96 bottles of beer on the wall, 96 bottles of beer on the wall\n",
      "So take it down, pass it around, 96 more bottles of beer on the wall\n",
      "95 bottles of beer on the wall, 95 bottles of beer on the wall\n",
      "So take it down, pass it around, 95 more bottles of beer on the wall\n",
      "94 bottles of beer on the wall, 94 bottles of beer on the wall\n",
      "So take it down, pass it around, 94 more bottles of beer on the wall\n",
      "93 bottles of beer on the wall, 93 bottles of beer on the wall\n",
      "So take it down, pass it around, 93 more bottles of beer on the wall\n",
      "92 bottles of beer on the wall, 92 bottles of beer on the wall\n",
      "So take it down, pass it around, 92 more bottles of beer on the wall\n",
      "91 bottles of beer on the wall, 91 bottles of beer on the wall\n",
      "So take it down, pass it around, 91 more bottles of beer on the wall\n",
      "90 bottles of beer on the wall, 90 bottles of beer on the wall\n",
      "So take it down, pass it around, 90 more bottles of beer on the wall\n",
      "89 bottles of beer on the wall, 89 bottles of beer on the wall\n",
      "So take it down, pass it around, 89 more bottles of beer on the wall\n",
      "88 bottles of beer on the wall, 88 bottles of beer on the wall\n",
      "So take it down, pass it around, 88 more bottles of beer on the wall\n",
      "87 bottles of beer on the wall, 87 bottles of beer on the wall\n",
      "So take it down, pass it around, 87 more bottles of beer on the wall\n",
      "86 bottles of beer on the wall, 86 bottles of beer on the wall\n",
      "So take it down, pass it around, 86 more bottles of beer on the wall\n",
      "85 bottles of beer on the wall, 85 bottles of beer on the wall\n",
      "So take it down, pass it around, 85 more bottles of beer on the wall\n",
      "84 bottles of beer on the wall, 84 bottles of beer on the wall\n",
      "So take it down, pass it around, 84 more bottles of beer on the wall\n",
      "83 bottles of beer on the wall, 83 bottles of beer on the wall\n",
      "So take it down, pass it around, 83 more bottles of beer on the wall\n",
      "82 bottles of beer on the wall, 82 bottles of beer on the wall\n",
      "So take it down, pass it around, 82 more bottles of beer on the wall\n",
      "81 bottles of beer on the wall, 81 bottles of beer on the wall\n",
      "So take it down, pass it around, 81 more bottles of beer on the wall\n",
      "80 bottles of beer on the wall, 80 bottles of beer on the wall\n",
      "So take it down, pass it around, 80 more bottles of beer on the wall\n",
      "79 bottles of beer on the wall, 79 bottles of beer on the wall\n",
      "So take it down, pass it around, 79 more bottles of beer on the wall\n",
      "78 bottles of beer on the wall, 78 bottles of beer on the wall\n",
      "So take it down, pass it around, 78 more bottles of beer on the wall\n",
      "77 bottles of beer on the wall, 77 bottles of beer on the wall\n",
      "So take it down, pass it around, 77 more bottles of beer on the wall\n",
      "76 bottles of beer on the wall, 76 bottles of beer on the wall\n",
      "So take it down, pass it around, 76 more bottles of beer on the wall\n",
      "75 bottles of beer on the wall, 75 bottles of beer on the wall\n",
      "So take it down, pass it around, 75 more bottles of beer on the wall\n",
      "74 bottles of beer on the wall, 74 bottles of beer on the wall\n",
      "So take it down, pass it around, 74 more bottles of beer on the wall\n",
      "73 bottles of beer on the wall, 73 bottles of beer on the wall\n",
      "So take it down, pass it around, 73 more bottles of beer on the wall\n",
      "72 bottles of beer on the wall, 72 bottles of beer on the wall\n",
      "So take it down, pass it around, 72 more bottles of beer on the wall\n",
      "71 bottles of beer on the wall, 71 bottles of beer on the wall\n",
      "So take it down, pass it around, 71 more bottles of beer on the wall\n",
      "70 bottles of beer on the wall, 70 bottles of beer on the wall\n",
      "So take it down, pass it around, 70 more bottles of beer on the wall\n",
      "69 bottles of beer on the wall, 69 bottles of beer on the wall\n",
      "So take it down, pass it around, 69 more bottles of beer on the wall\n",
      "68 bottles of beer on the wall, 68 bottles of beer on the wall\n",
      "So take it down, pass it around, 68 more bottles of beer on the wall\n",
      "67 bottles of beer on the wall, 67 bottles of beer on the wall\n",
      "So take it down, pass it around, 67 more bottles of beer on the wall\n",
      "66 bottles of beer on the wall, 66 bottles of beer on the wall\n",
      "So take it down, pass it around, 66 more bottles of beer on the wall\n",
      "65 bottles of beer on the wall, 65 bottles of beer on the wall\n",
      "So take it down, pass it around, 65 more bottles of beer on the wall\n",
      "64 bottles of beer on the wall, 64 bottles of beer on the wall\n",
      "So take it down, pass it around, 64 more bottles of beer on the wall\n",
      "63 bottles of beer on the wall, 63 bottles of beer on the wall\n",
      "So take it down, pass it around, 63 more bottles of beer on the wall\n",
      "62 bottles of beer on the wall, 62 bottles of beer on the wall\n",
      "So take it down, pass it around, 62 more bottles of beer on the wall\n",
      "61 bottles of beer on the wall, 61 bottles of beer on the wall\n",
      "So take it down, pass it around, 61 more bottles of beer on the wall\n",
      "60 bottles of beer on the wall, 60 bottles of beer on the wall\n",
      "So take it down, pass it around, 60 more bottles of beer on the wall\n",
      "59 bottles of beer on the wall, 59 bottles of beer on the wall\n",
      "So take it down, pass it around, 59 more bottles of beer on the wall\n",
      "58 bottles of beer on the wall, 58 bottles of beer on the wall\n",
      "So take it down, pass it around, 58 more bottles of beer on the wall\n",
      "57 bottles of beer on the wall, 57 bottles of beer on the wall\n",
      "So take it down, pass it around, 57 more bottles of beer on the wall\n",
      "56 bottles of beer on the wall, 56 bottles of beer on the wall\n",
      "So take it down, pass it around, 56 more bottles of beer on the wall\n",
      "55 bottles of beer on the wall, 55 bottles of beer on the wall\n",
      "So take it down, pass it around, 55 more bottles of beer on the wall\n",
      "54 bottles of beer on the wall, 54 bottles of beer on the wall\n",
      "So take it down, pass it around, 54 more bottles of beer on the wall\n",
      "53 bottles of beer on the wall, 53 bottles of beer on the wall\n",
      "So take it down, pass it around, 53 more bottles of beer on the wall\n",
      "52 bottles of beer on the wall, 52 bottles of beer on the wall\n",
      "So take it down, pass it around, 52 more bottles of beer on the wall\n",
      "51 bottles of beer on the wall, 51 bottles of beer on the wall\n",
      "So take it down, pass it around, 51 more bottles of beer on the wall\n",
      "50 bottles of beer on the wall, 50 bottles of beer on the wall\n",
      "So take it down, pass it around, 50 more bottles of beer on the wall\n",
      "49 bottles of beer on the wall, 49 bottles of beer on the wall\n",
      "So take it down, pass it around, 49 more bottles of beer on the wall\n",
      "48 bottles of beer on the wall, 48 bottles of beer on the wall\n",
      "So take it down, pass it around, 48 more bottles of beer on the wall\n",
      "47 bottles of beer on the wall, 47 bottles of beer on the wall\n",
      "So take it down, pass it around, 47 more bottles of beer on the wall\n",
      "46 bottles of beer on the wall, 46 bottles of beer on the wall\n",
      "So take it down, pass it around, 46 more bottles of beer on the wall\n",
      "45 bottles of beer on the wall, 45 bottles of beer on the wall\n",
      "So take it down, pass it around, 45 more bottles of beer on the wall\n",
      "44 bottles of beer on the wall, 44 bottles of beer on the wall\n",
      "So take it down, pass it around, 44 more bottles of beer on the wall\n",
      "43 bottles of beer on the wall, 43 bottles of beer on the wall\n",
      "So take it down, pass it around, 43 more bottles of beer on the wall\n",
      "42 bottles of beer on the wall, 42 bottles of beer on the wall\n",
      "So take it down, pass it around, 42 more bottles of beer on the wall\n",
      "41 bottles of beer on the wall, 41 bottles of beer on the wall\n",
      "So take it down, pass it around, 41 more bottles of beer on the wall\n",
      "40 bottles of beer on the wall, 40 bottles of beer on the wall\n",
      "So take it down, pass it around, 40 more bottles of beer on the wall\n",
      "39 bottles of beer on the wall, 39 bottles of beer on the wall\n",
      "So take it down, pass it around, 39 more bottles of beer on the wall\n",
      "38 bottles of beer on the wall, 38 bottles of beer on the wall\n",
      "So take it down, pass it around, 38 more bottles of beer on the wall\n",
      "37 bottles of beer on the wall, 37 bottles of beer on the wall\n",
      "So take it down, pass it around, 37 more bottles of beer on the wall\n",
      "36 bottles of beer on the wall, 36 bottles of beer on the wall\n",
      "So take it down, pass it around, 36 more bottles of beer on the wall\n",
      "35 bottles of beer on the wall, 35 bottles of beer on the wall\n",
      "So take it down, pass it around, 35 more bottles of beer on the wall\n",
      "34 bottles of beer on the wall, 34 bottles of beer on the wall\n",
      "So take it down, pass it around, 34 more bottles of beer on the wall\n",
      "33 bottles of beer on the wall, 33 bottles of beer on the wall\n",
      "So take it down, pass it around, 33 more bottles of beer on the wall\n",
      "32 bottles of beer on the wall, 32 bottles of beer on the wall\n",
      "So take it down, pass it around, 32 more bottles of beer on the wall\n",
      "31 bottles of beer on the wall, 31 bottles of beer on the wall\n",
      "So take it down, pass it around, 31 more bottles of beer on the wall\n",
      "30 bottles of beer on the wall, 30 bottles of beer on the wall\n",
      "So take it down, pass it around, 30 more bottles of beer on the wall\n",
      "29 bottles of beer on the wall, 29 bottles of beer on the wall\n",
      "So take it down, pass it around, 29 more bottles of beer on the wall\n",
      "28 bottles of beer on the wall, 28 bottles of beer on the wall\n",
      "So take it down, pass it around, 28 more bottles of beer on the wall\n",
      "27 bottles of beer on the wall, 27 bottles of beer on the wall\n",
      "So take it down, pass it around, 27 more bottles of beer on the wall\n",
      "26 bottles of beer on the wall, 26 bottles of beer on the wall\n",
      "So take it down, pass it around, 26 more bottles of beer on the wall\n",
      "25 bottles of beer on the wall, 25 bottles of beer on the wall\n",
      "So take it down, pass it around, 25 more bottles of beer on the wall\n",
      "24 bottles of beer on the wall, 24 bottles of beer on the wall\n",
      "So take it down, pass it around, 24 more bottles of beer on the wall\n",
      "23 bottles of beer on the wall, 23 bottles of beer on the wall\n",
      "So take it down, pass it around, 23 more bottles of beer on the wall\n",
      "22 bottles of beer on the wall, 22 bottles of beer on the wall\n",
      "So take it down, pass it around, 22 more bottles of beer on the wall\n",
      "21 bottles of beer on the wall, 21 bottles of beer on the wall\n",
      "So take it down, pass it around, 21 more bottles of beer on the wall\n",
      "20 bottles of beer on the wall, 20 bottles of beer on the wall\n",
      "So take it down, pass it around, 20 more bottles of beer on the wall\n",
      "19 bottles of beer on the wall, 19 bottles of beer on the wall\n",
      "So take it down, pass it around, 19 more bottles of beer on the wall\n",
      "18 bottles of beer on the wall, 18 bottles of beer on the wall\n",
      "So take it down, pass it around, 18 more bottles of beer on the wall\n",
      "17 bottles of beer on the wall, 17 bottles of beer on the wall\n",
      "So take it down, pass it around, 17 more bottles of beer on the wall\n",
      "16 bottles of beer on the wall, 16 bottles of beer on the wall\n",
      "So take it down, pass it around, 16 more bottles of beer on the wall\n",
      "15 bottles of beer on the wall, 15 bottles of beer on the wall\n",
      "So take it down, pass it around, 15 more bottles of beer on the wall\n",
      "14 bottles of beer on the wall, 14 bottles of beer on the wall\n",
      "So take it down, pass it around, 14 more bottles of beer on the wall\n",
      "13 bottles of beer on the wall, 13 bottles of beer on the wall\n",
      "So take it down, pass it around, 13 more bottles of beer on the wall\n",
      "12 bottles of beer on the wall, 12 bottles of beer on the wall\n",
      "So take it down, pass it around, 12 more bottles of beer on the wall\n",
      "11 bottles of beer on the wall, 11 bottles of beer on the wall\n",
      "So take it down, pass it around, 11 more bottles of beer on the wall\n",
      "10 bottles of beer on the wall, 10 bottles of beer on the wall\n",
      "So take it down, pass it around, 10 more bottles of beer on the wall\n",
      "9 bottles of beer on the wall, 9 bottles of beer on the wall\n",
      "So take it down, pass it around, 9 more bottles of beer on the wall\n",
      "8 bottles of beer on the wall, 8 bottles of beer on the wall\n",
      "So take it down, pass it around, 8 more bottles of beer on the wall\n",
      "7 bottles of beer on the wall, 7 bottles of beer on the wall\n",
      "So take it down, pass it around, 7 more bottles of beer on the wall\n",
      "6 bottles of beer on the wall, 6 bottles of beer on the wall\n",
      "So take it down, pass it around, 6 more bottles of beer on the wall\n",
      "5 bottles of beer on the wall, 5 bottles of beer on the wall\n",
      "So take it down, pass it around, 5 more bottles of beer on the wall\n",
      "4 bottles of beer on the wall, 4 bottles of beer on the wall\n",
      "So take it down, pass it around, 4 more bottles of beer on the wall\n",
      "3 bottles of beer on the wall, 3 bottles of beer on the wall\n",
      "So take it down, pass it around, 3 more bottles of beer on the wall\n",
      "2 more bottles of beer on the wall, 1 bottle of beer!\n",
      "So take it down, pass it around, 1 more bottles of beer on the wall\n",
      "1 Bottle of beer on the wall, 1 bottle of beer!\n",
      "So take it down, pass it around, 1 more bottles of beer on the wall\n"
     ]
    }
   ],
   "source": [
    "# 99 bottles of Beers on the Wall:\n",
    "for i in range(99, 0, -1):\n",
    "    if i == 1:\n",
    "        print(\"1 Bottle of beer on the wall, 1 bottle of beer!\")\n",
    "        print(\"So take it down, pass it around, 1 more bottles of beer on the wall\")\n",
    "    elif i == 2:\n",
    "        print(\"2 more bottles of beer on the wall, 1 bottle of beer!\")\n",
    "        print(\"So take it down, pass it around, 1 more bottles of beer on the wall\")\n",
    "    else:\n",
    "        print(\"{0} bottles of beer on the wall, {0} bottles of beer on the wall\".format(i))\n",
    "        print(\"So take it down, pass it around, {0} more bottles of beer on the wall\".format(i))"
   ]
  },
  {
   "cell_type": "markdown",
   "metadata": {},
   "source": [
    "## Make Interative Jokes"
   ]
  },
  {
   "cell_type": "code",
   "execution_count": 3,
   "metadata": {
    "collapsed": false
   },
   "outputs": [
    {
     "name": "stdout",
     "output_type": "stream",
     "text": [
      "What do you get when you cross a snowman with a vampire?\n",
      "Um... not sure?\n",
      "FrostBite!\n"
     ]
    },
    {
     "data": {
      "text/plain": [
       "<function print>"
      ]
     },
     "execution_count": 3,
     "metadata": {},
     "output_type": "execute_result"
    }
   ],
   "source": [
    "# interactive Jokes\n",
    "print(\"What do you get when you cross a snowman with a vampire?\")\n",
    "input()\n",
    "print(\"FrostBite!\")\n",
    "print"
   ]
  },
  {
   "cell_type": "markdown",
   "metadata": {},
   "source": [
    "## Randomly Pick Character"
   ]
  },
  {
   "cell_type": "code",
   "execution_count": 4,
   "metadata": {
    "collapsed": false
   },
   "outputs": [
    {
     "data": {
      "text/plain": [
       "'h'"
      ]
     },
     "execution_count": 4,
     "metadata": {},
     "output_type": "execute_result"
    }
   ],
   "source": [
    "import random\n",
    "random.choice('The quick brown fox jumps over the lazy dog')"
   ]
  },
  {
   "cell_type": "markdown",
   "metadata": {},
   "source": [
    "## Identify Positions"
   ]
  },
  {
   "cell_type": "code",
   "execution_count": 5,
   "metadata": {
    "collapsed": false
   },
   "outputs": [
    {
     "data": {
      "text/plain": [
       "33"
      ]
     },
     "execution_count": 5,
     "metadata": {},
     "output_type": "execute_result"
    }
   ],
   "source": [
    "str_minds = \"Great minds discuss ideas; small minds discuss sardine size.\"\n",
    "\n",
    "def find_second(search, target):\n",
    "    first = search.find(target)\n",
    "    second = search.find(target, first+1)\n",
    "    return second\n",
    "find_second(str_minds, 'minds')"
   ]
  },
  {
   "cell_type": "markdown",
   "metadata": {},
   "source": [
    "## Remove Vowels"
   ]
  },
  {
   "cell_type": "code",
   "execution_count": 6,
   "metadata": {
    "collapsed": false
   },
   "outputs": [
    {
     "data": {
      "text/plain": [
       "\"Hs nyn sn tht whstl? t's slvr? \""
      ]
     },
     "execution_count": 6,
     "metadata": {},
     "output_type": "execute_result"
    }
   ],
   "source": [
    "def anti_vowel(text):\n",
    "    new_word = ''\n",
    "    for i in text:\n",
    "        if i not in 'aeiouAEIOU':\n",
    "            new_word += i\n",
    "    return new_word\n",
    "\n",
    "anti_vowel(\"Has anyone seen that whistle? It's silver? \")"
   ]
  },
  {
   "cell_type": "markdown",
   "metadata": {},
   "source": [
    "## Reversing A String"
   ]
  },
  {
   "cell_type": "code",
   "execution_count": 7,
   "metadata": {
    "collapsed": true
   },
   "outputs": [],
   "source": [
    "def reverse_text(text):\n",
    "    count = len(text) - 1\n",
    "    out = []\n",
    "    while (count > -1):\n",
    "        out.append(text[count])\n",
    "        count -= 1\n",
    "        print(out)\n",
    "    \n",
    "    new = ''\n",
    "    return new.join(out)"
   ]
  },
  {
   "cell_type": "code",
   "execution_count": 8,
   "metadata": {
    "collapsed": true
   },
   "outputs": [],
   "source": [
    "boobytrap = 'boobytrap'"
   ]
  },
  {
   "cell_type": "code",
   "execution_count": 9,
   "metadata": {
    "collapsed": false
   },
   "outputs": [
    {
     "name": "stdout",
     "output_type": "stream",
     "text": [
      "['p']\n",
      "['p', 'a']\n",
      "['p', 'a', 'r']\n",
      "['p', 'a', 'r', 't']\n",
      "['p', 'a', 'r', 't', 'y']\n",
      "['p', 'a', 'r', 't', 'y', 'b']\n",
      "['p', 'a', 'r', 't', 'y', 'b', 'o']\n",
      "['p', 'a', 'r', 't', 'y', 'b', 'o', 'o']\n",
      "['p', 'a', 'r', 't', 'y', 'b', 'o', 'o', 'b']\n"
     ]
    },
    {
     "data": {
      "text/plain": [
       "'partyboob'"
      ]
     },
     "execution_count": 9,
     "metadata": {},
     "output_type": "execute_result"
    }
   ],
   "source": [
    "reverse_text(boobytrap)"
   ]
  },
  {
   "cell_type": "markdown",
   "metadata": {},
   "source": [
    "## Check For Palindromes"
   ]
  },
  {
   "cell_type": "code",
   "execution_count": 10,
   "metadata": {
    "collapsed": true
   },
   "outputs": [],
   "source": [
    "def is_palindrome(my_str):\n",
    "    my_str = my_str.casefold()\n",
    "    # print(my_str) # casefold is like lowercase but more\n",
    "    \n",
    "    rev_str = reversed(my_str)\n",
    "    \n",
    "    if list(my_str) == list(rev_str):\n",
    "        print(\"Yo, you got a palindrome on yo hand\")\n",
    "    else:\n",
    "        print(\"Are you playing with me? Heck no.\")"
   ]
  },
  {
   "cell_type": "code",
   "execution_count": 11,
   "metadata": {
    "collapsed": false
   },
   "outputs": [
    {
     "name": "stdout",
     "output_type": "stream",
     "text": [
      "Yo, you got a palindrome on yo hand\n"
     ]
    }
   ],
   "source": [
    "is_palindrome('TacoCat')"
   ]
  },
  {
   "cell_type": "markdown",
   "metadata": {},
   "source": [
    "## Pluralize"
   ]
  },
  {
   "cell_type": "code",
   "execution_count": 12,
   "metadata": {
    "collapsed": true
   },
   "outputs": [],
   "source": [
    "def plural(word):\n",
    "    if word.endswith('y'):\n",
    "        return word[:-1] + 'ies'\n",
    "    \n",
    "    elif word.endswith('an'):\n",
    "        return word[:-2] + 'en'\n",
    "    \n",
    "    elif word[-1] in 'sx' or word[-2:] in ['sh', 'ch']:\n",
    "        return word + 'es'\n",
    "\n",
    "    else:\n",
    "        return word + 's'"
   ]
  },
  {
   "cell_type": "code",
   "execution_count": 13,
   "metadata": {
    "collapsed": false
   },
   "outputs": [
    {
     "data": {
      "text/plain": [
       "'Bobs'"
      ]
     },
     "execution_count": 13,
     "metadata": {},
     "output_type": "execute_result"
    }
   ],
   "source": [
    "plural('Bob')"
   ]
  },
  {
   "cell_type": "markdown",
   "metadata": {},
   "source": [
    "# Play With Numbers"
   ]
  },
  {
   "cell_type": "markdown",
   "metadata": {},
   "source": [
    "## Calculator Stuff"
   ]
  },
  {
   "cell_type": "code",
   "execution_count": 14,
   "metadata": {
    "collapsed": false
   },
   "outputs": [
    {
     "data": {
      "text/plain": [
       "9"
      ]
     },
     "execution_count": 14,
     "metadata": {},
     "output_type": "execute_result"
    }
   ],
   "source": [
    "# Multiply\n",
    "3 * 3"
   ]
  },
  {
   "cell_type": "code",
   "execution_count": 15,
   "metadata": {
    "collapsed": false
   },
   "outputs": [
    {
     "data": {
      "text/plain": [
       "27"
      ]
     },
     "execution_count": 15,
     "metadata": {},
     "output_type": "execute_result"
    }
   ],
   "source": [
    "# Power\n",
    "3 ** 3"
   ]
  },
  {
   "cell_type": "code",
   "execution_count": 16,
   "metadata": {
    "collapsed": false
   },
   "outputs": [
    {
     "data": {
      "text/plain": [
       "31.342303680489092"
      ]
     },
     "execution_count": 16,
     "metadata": {},
     "output_type": "execute_result"
    }
   ],
   "source": [
    "import math\n",
    "math.sqrt(982.34)"
   ]
  },
  {
   "cell_type": "markdown",
   "metadata": {},
   "source": [
    "## Solve The Pythagorean Theorem"
   ]
  },
  {
   "cell_type": "code",
   "execution_count": 17,
   "metadata": {
    "collapsed": false
   },
   "outputs": [
    {
     "data": {
      "text/plain": [
       "212"
      ]
     },
     "execution_count": 17,
     "metadata": {},
     "output_type": "execute_result"
    }
   ],
   "source": [
    "# Set vairalbes\n",
    "a = 4\n",
    "b = 14\n",
    "\n",
    "# Equation\n",
    "c_squared = a ** 2 + b ** 2\n",
    "c_squared"
   ]
  },
  {
   "cell_type": "markdown",
   "metadata": {},
   "source": [
    "## Generate Random Numbers"
   ]
  },
  {
   "cell_type": "code",
   "execution_count": 18,
   "metadata": {
    "collapsed": false
   },
   "outputs": [
    {
     "data": {
      "text/plain": [
       "1"
      ]
     },
     "execution_count": 18,
     "metadata": {},
     "output_type": "execute_result"
    }
   ],
   "source": [
    "import random\n",
    "random.randint(1, 20)"
   ]
  },
  {
   "cell_type": "markdown",
   "metadata": {},
   "source": [
    "## Odd or Even Test "
   ]
  },
  {
   "cell_type": "code",
   "execution_count": 19,
   "metadata": {
    "collapsed": false
   },
   "outputs": [
    {
     "name": "stdout",
     "output_type": "stream",
     "text": [
      "True\n",
      "False\n"
     ]
    },
    {
     "data": {
      "text/plain": [
       "False"
      ]
     },
     "execution_count": 19,
     "metadata": {},
     "output_type": "execute_result"
    }
   ],
   "source": [
    "def is_even(x):\n",
    "    result = x % 2 != 1\n",
    "    print(result)\n",
    "    return result\n",
    "\n",
    "is_even(4)\n",
    "is_even(3)"
   ]
  },
  {
   "cell_type": "code",
   "execution_count": 20,
   "metadata": {
    "collapsed": false
   },
   "outputs": [
    {
     "data": {
      "text/plain": [
       "[2, 4, 6, 8, 10]"
      ]
     },
     "execution_count": 20,
     "metadata": {},
     "output_type": "execute_result"
    }
   ],
   "source": [
    "# The modulo operator can help of retrieve interesting patterns from numbers\n",
    "old_list = [1, 2, 3, 4, 5, 6, 7, 8, 9, 10]\n",
    "\n",
    "# Returns odd numbers\n",
    "new_list = []\n",
    "for i in old_list:\n",
    "    if i % 2 == 0:\n",
    "        new_list.append(i)\n",
    "\n",
    "new_list"
   ]
  },
  {
   "cell_type": "markdown",
   "metadata": {},
   "source": [
    "## Trig Homework "
   ]
  },
  {
   "cell_type": "code",
   "execution_count": 21,
   "metadata": {
    "collapsed": true
   },
   "outputs": [],
   "source": [
    "import math"
   ]
  },
  {
   "cell_type": "code",
   "execution_count": 23,
   "metadata": {
    "collapsed": false
   },
   "outputs": [
    {
     "data": {
      "text/plain": [
       "2578.3100780887044"
      ]
     },
     "execution_count": 23,
     "metadata": {},
     "output_type": "execute_result"
    }
   ],
   "source": [
    "# converts angle x from radians to degree.\n",
    "math.degrees(45)"
   ]
  },
  {
   "cell_type": "code",
   "execution_count": 24,
   "metadata": {
    "collapsed": false
   },
   "outputs": [
    {
     "data": {
      "text/plain": [
       "0.7853981633974483"
      ]
     },
     "execution_count": 24,
     "metadata": {},
     "output_type": "execute_result"
    }
   ],
   "source": [
    "math.radians(45)"
   ]
  },
  {
   "cell_type": "code",
   "execution_count": null,
   "metadata": {
    "collapsed": true
   },
   "outputs": [],
   "source": []
  },
  {
   "cell_type": "markdown",
   "metadata": {},
   "source": []
  }
 ],
 "metadata": {
  "anaconda-cloud": {},
  "kernelspec": {
   "display_name": "Python [default]",
   "language": "python",
   "name": "python3"
  },
  "language_info": {
   "codemirror_mode": {
    "name": "ipython",
    "version": 3
   },
   "file_extension": ".py",
   "mimetype": "text/x-python",
   "name": "python",
   "nbconvert_exporter": "python",
   "pygments_lexer": "ipython3",
   "version": "3.5.2"
  }
 },
 "nbformat": 4,
 "nbformat_minor": 1
}
