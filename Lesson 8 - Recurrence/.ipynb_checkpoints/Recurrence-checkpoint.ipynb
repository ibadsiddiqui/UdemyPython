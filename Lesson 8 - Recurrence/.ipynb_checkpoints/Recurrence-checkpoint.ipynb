{
 "cells": [
  {
   "cell_type": "markdown",
   "metadata": {},
   "source": [
    "# For Loops "
   ]
  },
  {
   "cell_type": "markdown",
   "metadata": {},
   "source": [
    "## Simple "
   ]
  },
  {
   "cell_type": "code",
   "execution_count": 2,
   "metadata": {
    "collapsed": false
   },
   "outputs": [
    {
     "data": {
      "text/plain": [
       "(['Pizza', 'Pasta', 'Salad', 'Nachos'], list)"
      ]
     },
     "execution_count": 2,
     "metadata": {},
     "output_type": "execute_result"
    }
   ],
   "source": [
    "# Is this a loop?\n",
    "food = ['Pizza', 'Pasta', 'Salad', 'Nachos']\n",
    "food, type(food)"
   ]
  },
  {
   "cell_type": "code",
   "execution_count": 3,
   "metadata": {
    "collapsed": false
   },
   "outputs": [
    {
     "name": "stdout",
     "output_type": "stream",
     "text": [
      "Pizza\n",
      "Pasta\n",
      "Salad\n",
      "Nachos\n"
     ]
    }
   ],
   "source": [
    "# What will this do to our list?\n",
    "for item in food:\n",
    "    print(item)"
   ]
  },
  {
   "cell_type": "markdown",
   "metadata": {},
   "source": [
    "## Enumerate"
   ]
  },
  {
   "cell_type": "code",
   "execution_count": 5,
   "metadata": {
    "collapsed": false
   },
   "outputs": [
    {
     "name": "stdout",
     "output_type": "stream",
     "text": [
      "0\n",
      "Pizza\n",
      "1\n",
      "Pasta\n",
      "2\n",
      "Salad\n",
      "3\n",
      "Nachos\n"
     ]
    }
   ],
   "source": [
    "# What do you think adding enumerate will do?\n",
    "for index, item in enumerate(food):\n",
    "    print(index), print(item)"
   ]
  },
  {
   "cell_type": "markdown",
   "metadata": {},
   "source": [
    "# Looping Types "
   ]
  },
  {
   "cell_type": "markdown",
   "metadata": {},
   "source": [
    "## String "
   ]
  },
  {
   "cell_type": "code",
   "execution_count": 6,
   "metadata": {
    "collapsed": false
   },
   "outputs": [
    {
     "name": "stdout",
     "output_type": "stream",
     "text": [
      "H\n",
      "u\n",
      "l\n",
      "l\n",
      "a\n",
      " \n",
      "H\n",
      "o\n",
      "o\n",
      "p\n"
     ]
    }
   ],
   "source": [
    "# Can we loop over a hulla hoop?  (String\n",
    "hh = \"Hulla Hoop\"\n",
    "for item in hh:\n",
    "    print(item)"
   ]
  },
  {
   "cell_type": "markdown",
   "metadata": {},
   "source": [
    "## Range "
   ]
  },
  {
   "cell_type": "code",
   "execution_count": 7,
   "metadata": {
    "collapsed": false
   },
   "outputs": [
    {
     "name": "stdout",
     "output_type": "stream",
     "text": [
      "0\n",
      "1\n",
      "2\n",
      "3\n",
      "4\n",
      "5\n",
      "6\n",
      "7\n",
      "8\n",
      "9\n",
      "10\n",
      "11\n",
      "12\n",
      "13\n",
      "14\n",
      "15\n",
      "16\n",
      "17\n",
      "18\n",
      "19\n"
     ]
    }
   ],
   "source": [
    "# Can we loop over a range?\n",
    "for i in range(20):\n",
    "    print(i)"
   ]
  },
  {
   "cell_type": "code",
   "execution_count": 8,
   "metadata": {
    "collapsed": false
   },
   "outputs": [
    {
     "ename": "SyntaxError",
     "evalue": "invalid syntax (<ipython-input-8-c1cc5821ce26>, line 3)",
     "output_type": "error",
     "traceback": [
      "\u001b[0;36m  File \u001b[0;32m\"<ipython-input-8-c1cc5821ce26>\"\u001b[0;36m, line \u001b[0;32m3\u001b[0m\n\u001b[0;31m    for item on appreciate:\u001b[0m\n\u001b[0m              ^\u001b[0m\n\u001b[0;31mSyntaxError\u001b[0m\u001b[0;31m:\u001b[0m invalid syntax\n"
     ]
    }
   ],
   "source": [
    "# can we loop over a range with gaps?\n",
    "appreciate = range(2, 10, 2)\n",
    "for item on appreciate:\n",
    "    print(item)"
   ]
  },
  {
   "cell_type": "markdown",
   "metadata": {},
   "source": [
    "## List "
   ]
  },
  {
   "cell_type": "code",
   "execution_count": 9,
   "metadata": {
    "collapsed": true
   },
   "outputs": [],
   "source": [
    "bucket = ['tattoo', 'skydive', 'ride a shark']"
   ]
  },
  {
   "cell_type": "code",
   "execution_count": 10,
   "metadata": {
    "collapsed": false
   },
   "outputs": [
    {
     "name": "stdout",
     "output_type": "stream",
     "text": [
      "tattoo\n",
      "skydive\n",
      "ride a shark\n"
     ]
    }
   ],
   "source": [
    "for item in bucket:\n",
    "    print(item)"
   ]
  },
  {
   "cell_type": "markdown",
   "metadata": {},
   "source": [
    "## Dict"
   ]
  },
  {
   "cell_type": "code",
   "execution_count": 11,
   "metadata": {
    "collapsed": true
   },
   "outputs": [],
   "source": [
    "# Dict\n",
    "colors = {\n",
    "    'red' :1,\n",
    "    'blue' : 2,\n",
    "    'green' : 3,\n",
    "    'yellow' : 4\n",
    "}"
   ]
  },
  {
   "cell_type": "code",
   "execution_count": 12,
   "metadata": {
    "collapsed": false
   },
   "outputs": [
    {
     "name": "stdout",
     "output_type": "stream",
     "text": [
      "green\n",
      "yellow\n",
      "red\n",
      "blue\n"
     ]
    }
   ],
   "source": [
    "# loop over keys\n",
    "for k in colors:\n",
    "    print(k)"
   ]
  },
  {
   "cell_type": "code",
   "execution_count": 17,
   "metadata": {
    "collapsed": false
   },
   "outputs": [
    {
     "name": "stdout",
     "output_type": "stream",
     "text": [
      "green :  3\n",
      "yellow :  4\n",
      "red :  1\n",
      "blue :  2\n"
     ]
    }
   ],
   "source": [
    "# loop over keys and values:\n",
    "for key, value in colors.items():\n",
    "    print(key, ': ', value)"
   ]
  },
  {
   "cell_type": "markdown",
   "metadata": {},
   "source": [
    "# While Loop "
   ]
  },
  {
   "cell_type": "code",
   "execution_count": 18,
   "metadata": {
    "collapsed": false
   },
   "outputs": [
    {
     "name": "stdout",
     "output_type": "stream",
     "text": [
      "3\n",
      "2\n",
      "1\n",
      "0\n"
     ]
    }
   ],
   "source": [
    "# How many times will the bunny hop?\n",
    "hops = 3\n",
    "while hops >= 0:\n",
    "    print(hops)\n",
    "    hops = hops - 1"
   ]
  },
  {
   "cell_type": "code",
   "execution_count": 19,
   "metadata": {
    "collapsed": false
   },
   "outputs": [
    {
     "name": "stdout",
     "output_type": "stream",
     "text": [
      "115\n",
      "114\n",
      "113\n",
      "The tea is cool enough\n"
     ]
    }
   ],
   "source": [
    "temperature = 115\n",
    "while temperature > 112:\n",
    "    print(temperature)\n",
    "    temperature -= 1 # Notice the shorthand\n",
    "    \n",
    "print(\"The tea is cool enough\")"
   ]
  },
  {
   "cell_type": "code",
   "execution_count": 21,
   "metadata": {
    "collapsed": false
   },
   "outputs": [
    {
     "name": "stdout",
     "output_type": "stream",
     "text": [
      "The count is:  0\n",
      "The count is:  1\n",
      "The count is:  2\n",
      "The count is:  3\n",
      "The count is:  4\n",
      "The count is:  5\n",
      "The count is:  6\n",
      "The count is:  7\n",
      "The count is:  8\n",
      "Good bye!\n"
     ]
    }
   ],
   "source": [
    "# Can we count up also?\n",
    "count = 0\n",
    "while (count < 9):\n",
    "    print(\"The count is: \", count)\n",
    "    count = count + 1\n",
    "    \n",
    "print(\"Good bye!\")"
   ]
  },
  {
   "cell_type": "markdown",
   "metadata": {},
   "source": [
    "# Break Statement"
   ]
  },
  {
   "cell_type": "markdown",
   "metadata": {},
   "source": [
    "## Conditional "
   ]
  },
  {
   "cell_type": "code",
   "execution_count": 22,
   "metadata": {
    "collapsed": false
   },
   "outputs": [
    {
     "name": "stdout",
     "output_type": "stream",
     "text": [
      "not so\n",
      "not so\n",
      "not so\n",
      "Make it so\n",
      "not so\n",
      "not so\n"
     ]
    }
   ],
   "source": [
    "# When will captain picard 'make it so'?\n",
    "for i in range(6):\n",
    "    if i is 3:\n",
    "        print(\"Make it so\")\n",
    "    else:\n",
    "        print('not so')"
   ]
  },
  {
   "cell_type": "markdown",
   "metadata": {},
   "source": [
    "## Break"
   ]
  },
  {
   "cell_type": "code",
   "execution_count": 23,
   "metadata": {
    "collapsed": false
   },
   "outputs": [
    {
     "name": "stdout",
     "output_type": "stream",
     "text": [
      "Not so\n",
      "Not so\n",
      "Not so\n",
      "Make it so\n"
     ]
    }
   ],
   "source": [
    "# Will captain picard 'make it so ' ?\n",
    "for i in range(6):\n",
    "    if i is 3 :\n",
    "        print(\"Make it so\")\n",
    "        break    # Breaks out of loop\n",
    "    else:\n",
    "        print(\"Not so\")"
   ]
  },
  {
   "cell_type": "code",
   "execution_count": 24,
   "metadata": {
    "collapsed": false
   },
   "outputs": [
    {
     "name": "stdout",
     "output_type": "stream",
     "text": [
      "Not so\n",
      "Not so\n",
      "Not so\n"
     ]
    }
   ],
   "source": [
    "# Will captain picard still 'make it so'?\n",
    "for i in range(6):\n",
    "    if i is 3:\n",
    "        break\n",
    "        print('make it so')\n",
    "    else:\n",
    "        print(\"Not so\")"
   ]
  },
  {
   "cell_type": "markdown",
   "metadata": {},
   "source": [
    "## Continue "
   ]
  },
  {
   "cell_type": "code",
   "execution_count": 25,
   "metadata": {
    "collapsed": false
   },
   "outputs": [
    {
     "name": "stdout",
     "output_type": "stream",
     "text": [
      "Make it so\n",
      "Make it so\n",
      "Make it so\n",
      "make it so\n",
      "Make it so\n",
      "Make it so\n"
     ]
    }
   ],
   "source": [
    "# how many times will captain picard 'make it so' ?\n",
    "for i in range(6):\n",
    "    if i is 3:\n",
    "        print(\"make it so\")\n",
    "    else:\n",
    "        print(\"Make it so\")"
   ]
  },
  {
   "cell_type": "code",
   "execution_count": 26,
   "metadata": {
    "collapsed": false
   },
   "outputs": [
    {
     "name": "stdout",
     "output_type": "stream",
     "text": [
      "1\n",
      "make it so\n",
      "2\n",
      "make it so\n",
      "3\n",
      "make it so\n",
      "4\n",
      "make it so\n",
      "5\n",
      "make it so\n",
      "6\n",
      "make it so\n"
     ]
    }
   ],
   "source": [
    "# How can we clean up the output/\n",
    "for i, k in enumerate(range(6)):\n",
    "    print(i + 1)\n",
    "    if k is 3:\n",
    "        print('make it so')\n",
    "    else:\n",
    "        print('make it so')"
   ]
  },
  {
   "cell_type": "code",
   "execution_count": 27,
   "metadata": {
    "collapsed": false
   },
   "outputs": [
    {
     "name": "stdout",
     "output_type": "stream",
     "text": [
      "1\n",
      "Make it so\n",
      "2\n",
      "Make it so\n",
      "3\n",
      "Make it so\n",
      "4\n",
      "Make it so\n",
      "5\n",
      "Make it so\n",
      "6\n",
      "Make it so\n"
     ]
    }
   ],
   "source": [
    "# How many will captain picard 'make it so'?\n",
    "for i, k in enumerate(range(6)):\n",
    "    print(i+1)\n",
    "    if k is 3:\n",
    "        print(\"Make it so\")\n",
    "        continue\n",
    "    else:\n",
    "        print('Make it so')"
   ]
  },
  {
   "cell_type": "code",
   "execution_count": 28,
   "metadata": {
    "collapsed": false
   },
   "outputs": [
    {
     "name": "stdout",
     "output_type": "stream",
     "text": [
      "1\n",
      "Make it so\n",
      "2\n",
      "Make it so\n",
      "3\n",
      "Make it so\n",
      "4\n",
      "5\n",
      "Make it so\n",
      "6\n",
      "Make it so\n"
     ]
    }
   ],
   "source": [
    "# How many will captain picard 'make it so'?\n",
    "for i, k in enumerate(range(6)):\n",
    "    print(i+1)\n",
    "    if k is 3:\n",
    "        continue\n",
    "        print(\"Make it so\")\n",
    "    else:\n",
    "        print('Make it so')"
   ]
  },
  {
   "cell_type": "markdown",
   "metadata": {},
   "source": [
    "# Nesting "
   ]
  },
  {
   "cell_type": "code",
   "execution_count": 29,
   "metadata": {
    "collapsed": false
   },
   "outputs": [
    {
     "name": "stdout",
     "output_type": "stream",
     "text": [
      "[(11, True, 1), (11, True, 1), (12, True, 1), (12, True, 1), (11, True, 2), (11, True, 2), (12, True, 2), (12, True, 2)]\n"
     ]
    }
   ],
   "source": [
    "nest = []\n",
    "for big_stick in range(1,3):\n",
    "    for small_stick in range(11, 13):\n",
    "        nest.append((small_stick, True, big_stick))\n",
    "        nest.append((small_stick, True, big_stick))\n",
    "        \n",
    "print(nest)"
   ]
  },
  {
   "cell_type": "code",
   "execution_count": 30,
   "metadata": {
    "collapsed": false
   },
   "outputs": [
    {
     "name": "stdout",
     "output_type": "stream",
     "text": [
      "1\n",
      "2\n",
      "3\n",
      "10\n",
      "20\n",
      "30\n",
      "100\n",
      "200\n",
      "300\n"
     ]
    }
   ],
   "source": [
    "num_list = [[1,2,3], [10,20,30], [100,200,300]]\n",
    "\n",
    "for x in range(0,3):\n",
    "    for y in range(0,3):\n",
    "        print(num_list[x][y])"
   ]
  },
  {
   "cell_type": "code",
   "execution_count": 32,
   "metadata": {
    "collapsed": false
   },
   "outputs": [
    {
     "name": "stdout",
     "output_type": "stream",
     "text": [
      "11\n",
      "12\n",
      "13\n",
      "14\n",
      "15\n",
      "16\n",
      "17\n",
      "18\n",
      "19\n",
      "11\n",
      "12\n",
      "13\n",
      "14\n",
      "15\n",
      "16\n",
      "17\n",
      "18\n",
      "19\n",
      "11\n",
      "12\n",
      "13\n",
      "14\n",
      "15\n",
      "16\n",
      "17\n",
      "18\n",
      "19\n",
      "11\n",
      "12\n",
      "13\n",
      "14\n",
      "15\n",
      "16\n",
      "17\n",
      "18\n",
      "19\n",
      "11\n",
      "12\n",
      "13\n",
      "14\n",
      "15\n",
      "16\n",
      "17\n",
      "18\n",
      "19\n",
      "11\n",
      "12\n",
      "13\n",
      "14\n",
      "15\n",
      "16\n",
      "17\n",
      "18\n",
      "19\n",
      "11\n",
      "12\n",
      "13\n",
      "14\n",
      "15\n",
      "16\n",
      "17\n",
      "18\n",
      "19\n",
      "11\n",
      "12\n",
      "13\n",
      "14\n",
      "15\n",
      "16\n",
      "17\n",
      "18\n",
      "19\n",
      "11\n",
      "12\n",
      "13\n",
      "14\n",
      "15\n",
      "16\n",
      "17\n",
      "18\n",
      "19\n"
     ]
    }
   ],
   "source": [
    "for i in range(1,10):\n",
    "    for x in range(11,20):\n",
    "        print(x)"
   ]
  },
  {
   "cell_type": "markdown",
   "metadata": {},
   "source": [
    "## Fun "
   ]
  },
  {
   "cell_type": "code",
   "execution_count": 34,
   "metadata": {
    "collapsed": false
   },
   "outputs": [
    {
     "name": "stderr",
     "output_type": "stream",
     "text": [
      "100%|████████████████████████████████████████| 999999/999999 [00:02<00:00, 397120.92it/s]\n"
     ]
    }
   ],
   "source": [
    "# Display progress bars for loops in your code\n",
    "\n",
    "from tqdm import tqdm\n",
    "nest = range(1,1000000)\n",
    "for nest in tqdm(nest):\n",
    "    pass"
   ]
  }
 ],
 "metadata": {
  "anaconda-cloud": {},
  "kernelspec": {
   "display_name": "Python [default]",
   "language": "python",
   "name": "python3"
  },
  "language_info": {
   "codemirror_mode": {
    "name": "ipython",
    "version": 3
   },
   "file_extension": ".py",
   "mimetype": "text/x-python",
   "name": "python",
   "nbconvert_exporter": "python",
   "pygments_lexer": "ipython3",
   "version": "3.5.2"
  }
 },
 "nbformat": 4,
 "nbformat_minor": 1
}
