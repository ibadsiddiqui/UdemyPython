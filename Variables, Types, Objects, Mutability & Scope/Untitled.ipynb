{
 "cells": [
  {
   "cell_type": "markdown",
   "metadata": {},
   "source": [
    "# Scope"
   ]
  },
  {
   "cell_type": "code",
   "execution_count": 1,
   "metadata": {
    "collapsed": false
   },
   "outputs": [
    {
     "name": "stdout",
     "output_type": "stream",
     "text": [
      "Local Pie\n"
     ]
    }
   ],
   "source": [
    "# some pies can be found anywhere in the world\n",
    "pie = 'Global Rubarb' # Global Scope\n",
    "\n",
    "def fridge():\n",
    "    pie = 'Local Pie' # local Scope\n",
    "    return pie\n",
    "\n",
    "bake = fridge()\n",
    "print(bake)"
   ]
  },
  {
   "cell_type": "markdown",
   "metadata": {},
   "source": [
    "### Locals and Globals"
   ]
  },
  {
   "cell_type": "code",
   "execution_count": 2,
   "metadata": {
    "collapsed": false
   },
   "outputs": [
    {
     "data": {
      "text/plain": [
       "'Local Pie'"
      ]
     },
     "execution_count": 2,
     "metadata": {},
     "output_type": "execute_result"
    }
   ],
   "source": [
    "bake"
   ]
  },
  {
   "cell_type": "code",
   "execution_count": 3,
   "metadata": {
    "collapsed": false
   },
   "outputs": [
    {
     "data": {
      "text/plain": [
       "'Global Rubarb'"
      ]
     },
     "execution_count": 3,
     "metadata": {},
     "output_type": "execute_result"
    }
   ],
   "source": [
    "pie"
   ]
  },
  {
   "cell_type": "markdown",
   "metadata": {},
   "source": [
    "### System Globals"
   ]
  },
  {
   "cell_type": "code",
   "execution_count": 4,
   "metadata": {
    "collapsed": true
   },
   "outputs": [],
   "source": [
    "# Why do you think this word is in RED?\n",
    "Cucumber = True"
   ]
  },
  {
   "cell_type": "markdown",
   "metadata": {},
   "source": [
    "### Globals"
   ]
  },
  {
   "cell_type": "code",
   "execution_count": 5,
   "metadata": {
    "collapsed": true
   },
   "outputs": [],
   "source": [
    "CAR_COLOR = 'pink'\n",
    "def try_to_change_me():\n",
    "    CAR_COLOR = 'blue'\n",
    "    return CAR_COLOR\n",
    "\n",
    "new_color = try_to_change_me()"
   ]
  },
  {
   "cell_type": "code",
   "execution_count": 7,
   "metadata": {
    "collapsed": false
   },
   "outputs": [
    {
     "data": {
      "text/plain": [
       "'blue'"
      ]
     },
     "execution_count": 7,
     "metadata": {},
     "output_type": "execute_result"
    }
   ],
   "source": [
    "#What color is inside?\n",
    "new_color"
   ]
  },
  {
   "cell_type": "code",
   "execution_count": 8,
   "metadata": {
    "collapsed": false
   },
   "outputs": [
    {
     "name": "stderr",
     "output_type": "stream",
     "text": [
      "<ipython-input-8-67bdc59b4404>:4: SyntaxWarning: name 'CAR_COLOR' is assigned to before global declaration\n",
      "  global CAR_COLOR\n"
     ]
    },
    {
     "data": {
      "text/plain": [
       "'blue'"
      ]
     },
     "execution_count": 8,
     "metadata": {},
     "output_type": "execute_result"
    }
   ],
   "source": [
    "CAR_COLOR = 'pink'\n",
    "def try_to_change_me():\n",
    "    CAR_COLOR = 'blue'\n",
    "    global CAR_COLOR\n",
    "    return CAR_COLOR\n",
    "\n",
    "new_color = try_to_change_me()\n",
    "new_color"
   ]
  },
  {
   "cell_type": "code",
   "execution_count": 9,
   "metadata": {
    "collapsed": false
   },
   "outputs": [
    {
     "data": {
      "text/plain": [
       "'blue'"
      ]
     },
     "execution_count": 9,
     "metadata": {},
     "output_type": "execute_result"
    }
   ],
   "source": [
    "# what color inside?\n",
    "new_color"
   ]
  },
  {
   "cell_type": "code",
   "execution_count": 10,
   "metadata": {
    "collapsed": false
   },
   "outputs": [
    {
     "data": {
      "text/plain": [
       "'blue'"
      ]
     },
     "execution_count": 10,
     "metadata": {},
     "output_type": "execute_result"
    }
   ],
   "source": [
    "CAR_COLOR"
   ]
  },
  {
   "cell_type": "markdown",
   "metadata": {},
   "source": [
    "# Namespaces"
   ]
  },
  {
   "cell_type": "markdown",
   "metadata": {},
   "source": [
    "### Output"
   ]
  },
  {
   "cell_type": "code",
   "execution_count": 11,
   "metadata": {
    "collapsed": true
   },
   "outputs": [],
   "source": [
    "import pprint"
   ]
  },
  {
   "cell_type": "code",
   "execution_count": 13,
   "metadata": {
    "collapsed": false
   },
   "outputs": [
    {
     "name": "stdout",
     "output_type": "stream",
     "text": [
      "{'CAR_COLOR': 'blue',\n",
      " 'Cucumber': True,\n",
      " 'In': ['',\n",
      "        '# some pies can be found anywhere in the world\\n'\n",
      "        \"pie = 'Global Rubarb' # Global Scope\\n\"\n",
      "        '\\n'\n",
      "        'def fridge():\\n'\n",
      "        \"    pie = 'Local Pie' # local Scope\\n\"\n",
      "        '    return pie\\n'\n",
      "        '\\n'\n",
      "        'bake = fridge()\\n'\n",
      "        'print(bake)',\n",
      "        'bake',\n",
      "        'pie',\n",
      "        '# Why do you think this word is in RED?\\nCucumber = True',\n",
      "        \"CAR_COLOR = 'pink'\\n\"\n",
      "        'def try_to_change_me():\\n'\n",
      "        \"    CAR_COLOR = 'blue'\\n\"\n",
      "        '    return CAR_COLOR\\n'\n",
      "        '\\n'\n",
      "        'new_color = try_to_change_me()',\n",
      "        '#What color is inside?\\nnew_color',\n",
      "        '#What color is inside?\\nnew_color',\n",
      "        \"CAR_COLOR = 'pink'\\n\"\n",
      "        'def try_to_change_me():\\n'\n",
      "        \"    CAR_COLOR = 'blue'\\n\"\n",
      "        '    global CAR_COLOR\\n'\n",
      "        '    return CAR_COLOR\\n'\n",
      "        '\\n'\n",
      "        'new_color = try_to_change_me()\\n'\n",
      "        'new_color',\n",
      "        '# what color inside?\\nnew_color',\n",
      "        'CAR_COLOR',\n",
      "        'import pprint',\n",
      "        'pprint.pprint(locals())',\n",
      "        'pprint.pprint(locals())'],\n",
      " 'Out': {2: 'Local Pie',\n",
      "         3: 'Global Rubarb',\n",
      "         6: 'blue',\n",
      "         7: 'blue',\n",
      "         8: 'blue',\n",
      "         9: 'blue',\n",
      "         10: 'blue'},\n",
      " '_': 'blue',\n",
      " '_10': 'blue',\n",
      " '_2': 'Local Pie',\n",
      " '_3': 'Global Rubarb',\n",
      " '_6': 'blue',\n",
      " '_7': 'blue',\n",
      " '_8': 'blue',\n",
      " '_9': 'blue',\n",
      " '__': 'blue',\n",
      " '___': 'blue',\n",
      " '__builtin__': <module 'builtins' (built-in)>,\n",
      " '__builtins__': <module 'builtins' (built-in)>,\n",
      " '__doc__': 'Automatically created module for IPython interactive environment',\n",
      " '__loader__': None,\n",
      " '__name__': '__main__',\n",
      " '__package__': None,\n",
      " '__spec__': None,\n",
      " '_dh': ['D:\\\\Learnings\\\\udemy\\\\Python3 - Programming for Beginners '\n",
      "         '2017\\\\Variables, Types, Objects, Mutability & Scope'],\n",
      " '_i': 'pprint.pprint(locals())',\n",
      " '_i1': '# some pies can be found anywhere in the world\\n'\n",
      "        \"pie = 'Global Rubarb' # Global Scope\\n\"\n",
      "        '\\n'\n",
      "        'def fridge():\\n'\n",
      "        \"    pie = 'Local Pie' # local Scope\\n\"\n",
      "        '    return pie\\n'\n",
      "        '\\n'\n",
      "        'bake = fridge()\\n'\n",
      "        'print(bake)',\n",
      " '_i10': 'CAR_COLOR',\n",
      " '_i11': 'import pprint',\n",
      " '_i12': 'pprint.pprint(locals())',\n",
      " '_i13': 'pprint.pprint(locals())',\n",
      " '_i2': 'bake',\n",
      " '_i3': 'pie',\n",
      " '_i4': '# Why do you think this word is in RED?\\nCucumber = True',\n",
      " '_i5': \"CAR_COLOR = 'pink'\\n\"\n",
      "        'def try_to_change_me():\\n'\n",
      "        \"    CAR_COLOR = 'blue'\\n\"\n",
      "        '    return CAR_COLOR\\n'\n",
      "        '\\n'\n",
      "        'new_color = try_to_change_me()',\n",
      " '_i6': '#What color is inside?\\nnew_color',\n",
      " '_i7': '#What color is inside?\\nnew_color',\n",
      " '_i8': \"CAR_COLOR = 'pink'\\n\"\n",
      "        'def try_to_change_me():\\n'\n",
      "        \"    CAR_COLOR = 'blue'\\n\"\n",
      "        '    global CAR_COLOR\\n'\n",
      "        '    return CAR_COLOR\\n'\n",
      "        '\\n'\n",
      "        'new_color = try_to_change_me()\\n'\n",
      "        'new_color',\n",
      " '_i9': '# what color inside?\\nnew_color',\n",
      " '_ih': ['',\n",
      "         '# some pies can be found anywhere in the world\\n'\n",
      "         \"pie = 'Global Rubarb' # Global Scope\\n\"\n",
      "         '\\n'\n",
      "         'def fridge():\\n'\n",
      "         \"    pie = 'Local Pie' # local Scope\\n\"\n",
      "         '    return pie\\n'\n",
      "         '\\n'\n",
      "         'bake = fridge()\\n'\n",
      "         'print(bake)',\n",
      "         'bake',\n",
      "         'pie',\n",
      "         '# Why do you think this word is in RED?\\nCucumber = True',\n",
      "         \"CAR_COLOR = 'pink'\\n\"\n",
      "         'def try_to_change_me():\\n'\n",
      "         \"    CAR_COLOR = 'blue'\\n\"\n",
      "         '    return CAR_COLOR\\n'\n",
      "         '\\n'\n",
      "         'new_color = try_to_change_me()',\n",
      "         '#What color is inside?\\nnew_color',\n",
      "         '#What color is inside?\\nnew_color',\n",
      "         \"CAR_COLOR = 'pink'\\n\"\n",
      "         'def try_to_change_me():\\n'\n",
      "         \"    CAR_COLOR = 'blue'\\n\"\n",
      "         '    global CAR_COLOR\\n'\n",
      "         '    return CAR_COLOR\\n'\n",
      "         '\\n'\n",
      "         'new_color = try_to_change_me()\\n'\n",
      "         'new_color',\n",
      "         '# what color inside?\\nnew_color',\n",
      "         'CAR_COLOR',\n",
      "         'import pprint',\n",
      "         'pprint.pprint(locals())',\n",
      "         'pprint.pprint(locals())'],\n",
      " '_ii': 'import pprint',\n",
      " '_iii': 'CAR_COLOR',\n",
      " '_oh': {2: 'Local Pie',\n",
      "         3: 'Global Rubarb',\n",
      "         6: 'blue',\n",
      "         7: 'blue',\n",
      "         8: 'blue',\n",
      "         9: 'blue',\n",
      "         10: 'blue'},\n",
      " '_sh': <module 'IPython.core.shadowns' from 'C:\\\\Program Files\\\\Anaconda3\\\\lib\\\\site-packages\\\\IPython\\\\core\\\\shadowns.py'>,\n",
      " 'bake': 'Local Pie',\n",
      " 'exit': <IPython.core.autocall.ZMQExitAutocall object at 0x00000176CD880438>,\n",
      " 'fridge': <function fridge at 0x00000176CD96EBF8>,\n",
      " 'get_ipython': <bound method InteractiveShell.get_ipython of <ipykernel.zmqshell.ZMQInteractiveShell object at 0x00000176CD934F28>>,\n",
      " 'new_color': 'blue',\n",
      " 'pie': 'Global Rubarb',\n",
      " 'pprint': <module 'pprint' from 'C:\\\\Program Files\\\\Anaconda3\\\\lib\\\\pprint.py'>,\n",
      " 'quit': <IPython.core.autocall.ZMQExitAutocall object at 0x00000176CD880438>,\n",
      " 'try_to_change_me': <function try_to_change_me at 0x00000176CD822598>}\n"
     ]
    }
   ],
   "source": [
    "pprint.pprint(locals())"
   ]
  },
  {
   "cell_type": "code",
   "execution_count": 14,
   "metadata": {
    "collapsed": false
   },
   "outputs": [
    {
     "name": "stdout",
     "output_type": "stream",
     "text": [
      "{'pie': 'pecan'}\n"
     ]
    }
   ],
   "source": [
    "#globals #print globals variables\n",
    "def fridge():\n",
    "    pie = 'pecan'\n",
    "    pprint.pprint(locals())\n",
    "    \n",
    "fridge()"
   ]
  },
  {
   "cell_type": "code",
   "execution_count": 15,
   "metadata": {
    "collapsed": false
   },
   "outputs": [
    {
     "name": "stdout",
     "output_type": "stream",
     "text": [
      "{'CAR_COLOR': 'blue',\n",
      " 'Cucumber': True,\n",
      " 'In': ['',\n",
      "        '# some pies can be found anywhere in the world\\n'\n",
      "        \"pie = 'Global Rubarb' # Global Scope\\n\"\n",
      "        '\\n'\n",
      "        'def fridge():\\n'\n",
      "        \"    pie = 'Local Pie' # local Scope\\n\"\n",
      "        '    return pie\\n'\n",
      "        '\\n'\n",
      "        'bake = fridge()\\n'\n",
      "        'print(bake)',\n",
      "        'bake',\n",
      "        'pie',\n",
      "        '# Why do you think this word is in RED?\\nCucumber = True',\n",
      "        \"CAR_COLOR = 'pink'\\n\"\n",
      "        'def try_to_change_me():\\n'\n",
      "        \"    CAR_COLOR = 'blue'\\n\"\n",
      "        '    return CAR_COLOR\\n'\n",
      "        '\\n'\n",
      "        'new_color = try_to_change_me()',\n",
      "        '#What color is inside?\\nnew_color',\n",
      "        '#What color is inside?\\nnew_color',\n",
      "        \"CAR_COLOR = 'pink'\\n\"\n",
      "        'def try_to_change_me():\\n'\n",
      "        \"    CAR_COLOR = 'blue'\\n\"\n",
      "        '    global CAR_COLOR\\n'\n",
      "        '    return CAR_COLOR\\n'\n",
      "        '\\n'\n",
      "        'new_color = try_to_change_me()\\n'\n",
      "        'new_color',\n",
      "        '# what color inside?\\nnew_color',\n",
      "        'CAR_COLOR',\n",
      "        'import pprint',\n",
      "        'pprint.pprint(locals())',\n",
      "        'pprint.pprint(locals())',\n",
      "        '#globals #print globals variables\\n'\n",
      "        'def fridge():\\n'\n",
      "        \"    pie = 'pecan'\\n\"\n",
      "        '    pprint.pprint(locals())\\n'\n",
      "        '    \\n'\n",
      "        'fridge()',\n",
      "        '#globals() #print global variables\\npprint.pprint(globals())'],\n",
      " 'Out': {2: 'Local Pie',\n",
      "         3: 'Global Rubarb',\n",
      "         6: 'blue',\n",
      "         7: 'blue',\n",
      "         8: 'blue',\n",
      "         9: 'blue',\n",
      "         10: 'blue'},\n",
      " '_': 'blue',\n",
      " '_10': 'blue',\n",
      " '_2': 'Local Pie',\n",
      " '_3': 'Global Rubarb',\n",
      " '_6': 'blue',\n",
      " '_7': 'blue',\n",
      " '_8': 'blue',\n",
      " '_9': 'blue',\n",
      " '__': 'blue',\n",
      " '___': 'blue',\n",
      " '__builtin__': <module 'builtins' (built-in)>,\n",
      " '__builtins__': <module 'builtins' (built-in)>,\n",
      " '__doc__': 'Automatically created module for IPython interactive environment',\n",
      " '__loader__': None,\n",
      " '__name__': '__main__',\n",
      " '__package__': None,\n",
      " '__spec__': None,\n",
      " '_dh': ['D:\\\\Learnings\\\\udemy\\\\Python3 - Programming for Beginners '\n",
      "         '2017\\\\Variables, Types, Objects, Mutability & Scope'],\n",
      " '_i': '#globals #print globals variables\\n'\n",
      "       'def fridge():\\n'\n",
      "       \"    pie = 'pecan'\\n\"\n",
      "       '    pprint.pprint(locals())\\n'\n",
      "       '    \\n'\n",
      "       'fridge()',\n",
      " '_i1': '# some pies can be found anywhere in the world\\n'\n",
      "        \"pie = 'Global Rubarb' # Global Scope\\n\"\n",
      "        '\\n'\n",
      "        'def fridge():\\n'\n",
      "        \"    pie = 'Local Pie' # local Scope\\n\"\n",
      "        '    return pie\\n'\n",
      "        '\\n'\n",
      "        'bake = fridge()\\n'\n",
      "        'print(bake)',\n",
      " '_i10': 'CAR_COLOR',\n",
      " '_i11': 'import pprint',\n",
      " '_i12': 'pprint.pprint(locals())',\n",
      " '_i13': 'pprint.pprint(locals())',\n",
      " '_i14': '#globals #print globals variables\\n'\n",
      "         'def fridge():\\n'\n",
      "         \"    pie = 'pecan'\\n\"\n",
      "         '    pprint.pprint(locals())\\n'\n",
      "         '    \\n'\n",
      "         'fridge()',\n",
      " '_i15': '#globals() #print global variables\\npprint.pprint(globals())',\n",
      " '_i2': 'bake',\n",
      " '_i3': 'pie',\n",
      " '_i4': '# Why do you think this word is in RED?\\nCucumber = True',\n",
      " '_i5': \"CAR_COLOR = 'pink'\\n\"\n",
      "        'def try_to_change_me():\\n'\n",
      "        \"    CAR_COLOR = 'blue'\\n\"\n",
      "        '    return CAR_COLOR\\n'\n",
      "        '\\n'\n",
      "        'new_color = try_to_change_me()',\n",
      " '_i6': '#What color is inside?\\nnew_color',\n",
      " '_i7': '#What color is inside?\\nnew_color',\n",
      " '_i8': \"CAR_COLOR = 'pink'\\n\"\n",
      "        'def try_to_change_me():\\n'\n",
      "        \"    CAR_COLOR = 'blue'\\n\"\n",
      "        '    global CAR_COLOR\\n'\n",
      "        '    return CAR_COLOR\\n'\n",
      "        '\\n'\n",
      "        'new_color = try_to_change_me()\\n'\n",
      "        'new_color',\n",
      " '_i9': '# what color inside?\\nnew_color',\n",
      " '_ih': ['',\n",
      "         '# some pies can be found anywhere in the world\\n'\n",
      "         \"pie = 'Global Rubarb' # Global Scope\\n\"\n",
      "         '\\n'\n",
      "         'def fridge():\\n'\n",
      "         \"    pie = 'Local Pie' # local Scope\\n\"\n",
      "         '    return pie\\n'\n",
      "         '\\n'\n",
      "         'bake = fridge()\\n'\n",
      "         'print(bake)',\n",
      "         'bake',\n",
      "         'pie',\n",
      "         '# Why do you think this word is in RED?\\nCucumber = True',\n",
      "         \"CAR_COLOR = 'pink'\\n\"\n",
      "         'def try_to_change_me():\\n'\n",
      "         \"    CAR_COLOR = 'blue'\\n\"\n",
      "         '    return CAR_COLOR\\n'\n",
      "         '\\n'\n",
      "         'new_color = try_to_change_me()',\n",
      "         '#What color is inside?\\nnew_color',\n",
      "         '#What color is inside?\\nnew_color',\n",
      "         \"CAR_COLOR = 'pink'\\n\"\n",
      "         'def try_to_change_me():\\n'\n",
      "         \"    CAR_COLOR = 'blue'\\n\"\n",
      "         '    global CAR_COLOR\\n'\n",
      "         '    return CAR_COLOR\\n'\n",
      "         '\\n'\n",
      "         'new_color = try_to_change_me()\\n'\n",
      "         'new_color',\n",
      "         '# what color inside?\\nnew_color',\n",
      "         'CAR_COLOR',\n",
      "         'import pprint',\n",
      "         'pprint.pprint(locals())',\n",
      "         'pprint.pprint(locals())',\n",
      "         '#globals #print globals variables\\n'\n",
      "         'def fridge():\\n'\n",
      "         \"    pie = 'pecan'\\n\"\n",
      "         '    pprint.pprint(locals())\\n'\n",
      "         '    \\n'\n",
      "         'fridge()',\n",
      "         '#globals() #print global variables\\npprint.pprint(globals())'],\n",
      " '_ii': 'pprint.pprint(locals())',\n",
      " '_iii': 'pprint.pprint(locals())',\n",
      " '_oh': {2: 'Local Pie',\n",
      "         3: 'Global Rubarb',\n",
      "         6: 'blue',\n",
      "         7: 'blue',\n",
      "         8: 'blue',\n",
      "         9: 'blue',\n",
      "         10: 'blue'},\n",
      " '_sh': <module 'IPython.core.shadowns' from 'C:\\\\Program Files\\\\Anaconda3\\\\lib\\\\site-packages\\\\IPython\\\\core\\\\shadowns.py'>,\n",
      " 'bake': 'Local Pie',\n",
      " 'exit': <IPython.core.autocall.ZMQExitAutocall object at 0x00000176CD880438>,\n",
      " 'fridge': <function fridge at 0x00000176CD822488>,\n",
      " 'get_ipython': <bound method InteractiveShell.get_ipython of <ipykernel.zmqshell.ZMQInteractiveShell object at 0x00000176CD934F28>>,\n",
      " 'new_color': 'blue',\n",
      " 'pie': 'Global Rubarb',\n",
      " 'pprint': <module 'pprint' from 'C:\\\\Program Files\\\\Anaconda3\\\\lib\\\\pprint.py'>,\n",
      " 'quit': <IPython.core.autocall.ZMQExitAutocall object at 0x00000176CD880438>,\n",
      " 'try_to_change_me': <function try_to_change_me at 0x00000176CD822598>}\n"
     ]
    }
   ],
   "source": [
    "#globals() #print global variables\n",
    "pprint.pprint(globals())"
   ]
  },
  {
   "cell_type": "code",
   "execution_count": 16,
   "metadata": {
    "collapsed": false
   },
   "outputs": [
    {
     "name": "stdout",
     "output_type": "stream",
     "text": [
      "CAR_COLOR\t Cucumber\t bake\t fridge\t new_color\t pie\t pprint\t try_to_change_me\t \n"
     ]
    }
   ],
   "source": [
    "%who"
   ]
  },
  {
   "cell_type": "code",
   "execution_count": 17,
   "metadata": {
    "collapsed": false
   },
   "outputs": [
    {
     "name": "stdout",
     "output_type": "stream",
     "text": [
      "Once deleted, variables cannot be recovered. Proceed (y/[n])? y\n"
     ]
    }
   ],
   "source": [
    "%reset"
   ]
  }
 ],
 "metadata": {
  "anaconda-cloud": {},
  "kernelspec": {
   "display_name": "Python [default]",
   "language": "python",
   "name": "python3"
  },
  "language_info": {
   "codemirror_mode": {
    "name": "ipython",
    "version": 3
   },
   "file_extension": ".py",
   "mimetype": "text/x-python",
   "name": "python",
   "nbconvert_exporter": "python",
   "pygments_lexer": "ipython3",
   "version": "3.5.2"
  }
 },
 "nbformat": 4,
 "nbformat_minor": 1
}
