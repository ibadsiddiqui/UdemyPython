{
 "cells": [
  {
   "cell_type": "markdown",
   "metadata": {},
   "source": [
    "# Conditionals "
   ]
  },
  {
   "cell_type": "markdown",
   "metadata": {},
   "source": [
    "* What defines conditionals?\n",
    "* What's the point of comditionals?\n",
    "* Why do conditionals matter?"
   ]
  },
  {
   "cell_type": "code",
   "execution_count": 1,
   "metadata": {
    "collapsed": false
   },
   "outputs": [
    {
     "name": "stdout",
     "output_type": "stream",
     "text": [
      "Order Salade\n"
     ]
    }
   ],
   "source": [
    "# Can elsa eat this?\n",
    "taste = 'good'\n",
    "calories = 350\n",
    "\n",
    "print(\"Eat Chococake!\" if taste == 'good' and calories < 300 else \"Order Salade\")"
   ]
  },
  {
   "cell_type": "markdown",
   "metadata": {},
   "source": [
    "# If, Else and Elif "
   ]
  },
  {
   "cell_type": "markdown",
   "metadata": {},
   "source": [
    "* What keyword does python give us to specify conditions?"
   ]
  },
  {
   "cell_type": "code",
   "execution_count": 3,
   "metadata": {
    "collapsed": true
   },
   "outputs": [],
   "source": [
    "# If this, else What?\n",
    "if calories < 350:\n",
    "    print(\"Eat\")"
   ]
  },
  {
   "cell_type": "code",
   "execution_count": 4,
   "metadata": {
    "collapsed": false
   },
   "outputs": [
    {
     "name": "stdout",
     "output_type": "stream",
     "text": [
      "Order Salad\n"
     ]
    }
   ],
   "source": [
    "# if this, then what?\n",
    "if calories < 300:\n",
    "    print(\"Eat\")\n",
    "else:\n",
    "    print('Order Salad')"
   ]
  },
  {
   "cell_type": "code",
   "execution_count": 5,
   "metadata": {
    "collapsed": false
   },
   "outputs": [
    {
     "name": "stdout",
     "output_type": "stream",
     "text": [
      "Just this time\n"
     ]
    }
   ],
   "source": [
    "# if this, else this, then what?\n",
    "if calories < 300:\n",
    "    print(\"Eat\")\n",
    "elif calories == 350:\n",
    "    print('Just this time')\n",
    "else:\n",
    "    print('Order Salad')"
   ]
  },
  {
   "cell_type": "markdown",
   "metadata": {},
   "source": [
    "# Decision Trees "
   ]
  },
  {
   "cell_type": "markdown",
   "metadata": {},
   "source": [
    "* How do we handle multiple conditions?\n",
    "* What is flow control?"
   ]
  },
  {
   "cell_type": "code",
   "execution_count": 6,
   "metadata": {
    "collapsed": true
   },
   "outputs": [],
   "source": [
    "# specift\n",
    "elsa_age = 21\n",
    "anna_age = 17"
   ]
  },
  {
   "cell_type": "code",
   "execution_count": 8,
   "metadata": {
    "collapsed": false
   },
   "outputs": [
    {
     "name": "stdout",
     "output_type": "stream",
     "text": [
      "She can drive but not drink\n"
     ]
    }
   ],
   "source": [
    "# What fun things is anna old enough to do?\n",
    "if anna_age >= 21:\n",
    "    print('She can drink and drive, but not at the same time')\n",
    "elif anna_age >= 17 and anna_age <= 21:\n",
    "    print(\"She can drive but not drink\")\n",
    "else:\n",
    "    print(\"Not old enough\")"
   ]
  },
  {
   "cell_type": "markdown",
   "metadata": {},
   "source": [
    "## Simple Logic "
   ]
  },
  {
   "cell_type": "markdown",
   "metadata": {},
   "source": [
    "* We can handle multiple conditionals by listing them in order\n",
    "* Generally these are evaluated from left to right but there can be exceptions"
   ]
  },
  {
   "cell_type": "code",
   "execution_count": 9,
   "metadata": {
    "collapsed": false
   },
   "outputs": [
    {
     "name": "stdout",
     "output_type": "stream",
     "text": [
      "teenager\n"
     ]
    }
   ],
   "source": [
    "# Is this logic readable in one line?\n",
    "print(\"Kid\" if elsa_age < 13 else \"teenager\")"
   ]
  },
  {
   "cell_type": "code",
   "execution_count": 10,
   "metadata": {
    "collapsed": false
   },
   "outputs": [
    {
     "name": "stdout",
     "output_type": "stream",
     "text": [
      "teenager\n"
     ]
    }
   ],
   "source": [
    "# IS this logic readable in one line?\n",
    "print(\"kid\" if anna_age < 13  else 'teenager' if anna_age < 18 else 'adult')"
   ]
  },
  {
   "cell_type": "markdown",
   "metadata": {},
   "source": [
    "## Complex Logic "
   ]
  },
  {
   "cell_type": "code",
   "execution_count": 11,
   "metadata": {
    "collapsed": false
   },
   "outputs": [
    {
     "name": "stdout",
     "output_type": "stream",
     "text": [
      "teenager\n"
     ]
    }
   ],
   "source": [
    "# Will this work without the indentations?\n",
    "if anna_age < 18:\n",
    "    if anna_age < 13:\n",
    "        print(\"kid\")\n",
    "    else:\n",
    "        print(\"teenager\")\n",
    "else:\n",
    "    print('adult')"
   ]
  },
  {
   "cell_type": "code",
   "execution_count": 12,
   "metadata": {
    "collapsed": false
   },
   "outputs": [
    {
     "name": "stdout",
     "output_type": "stream",
     "text": [
      "Batman lives\n"
     ]
    }
   ],
   "source": [
    "# Twoface captured batman, his coin flip follows this logic\n",
    "# Will batman survice\n",
    "if not True:\n",
    "    print(\"Batman dies\")\n",
    "else:\n",
    "    print(\"Batman lives\")"
   ]
  },
  {
   "cell_type": "markdown",
   "metadata": {},
   "source": [
    "## Mix-N-Match "
   ]
  },
  {
   "cell_type": "code",
   "execution_count": 13,
   "metadata": {
    "collapsed": false
   },
   "outputs": [
    {
     "name": "stdout",
     "output_type": "stream",
     "text": [
      "Order Salad\n"
     ]
    }
   ],
   "source": [
    "### comparison, outcome?\n",
    "print(\"Eat\" if taste is 'good' and calories < 300 else \"Order Salad\")"
   ]
  },
  {
   "cell_type": "code",
   "execution_count": 14,
   "metadata": {
    "collapsed": false
   },
   "outputs": [
    {
     "name": "stdout",
     "output_type": "stream",
     "text": [
      "Eat the Cheesecake!\n"
     ]
    }
   ],
   "source": [
    "# Arithmetic: What if Elsa excercise after?\n",
    "exercise = -200\n",
    "print(\"Eat the Cheesecake!\" if taste == 'good' and (calories + exercise) < 300 else \"Order Salad\")"
   ]
  },
  {
   "cell_type": "code",
   "execution_count": null,
   "metadata": {
    "collapsed": true
   },
   "outputs": [],
   "source": [
    "# Update\n",
    "taste = 'awesome'\n",
    "calories = 250\n",
    "# Membership: what if food tastes better than "
   ]
  }
 ],
 "metadata": {
  "anaconda-cloud": {},
  "kernelspec": {
   "display_name": "Python [default]",
   "language": "python",
   "name": "python3"
  },
  "language_info": {
   "codemirror_mode": {
    "name": "ipython",
    "version": 3
   },
   "file_extension": ".py",
   "mimetype": "text/x-python",
   "name": "python",
   "nbconvert_exporter": "python",
   "pygments_lexer": "ipython3",
   "version": "3.5.2"
  }
 },
 "nbformat": 4,
 "nbformat_minor": 1
}
