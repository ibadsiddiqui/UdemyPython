{
 "cells": [
  {
   "cell_type": "markdown",
   "metadata": {},
   "source": [
    "# Conditionals "
   ]
  },
  {
   "cell_type": "markdown",
   "metadata": {},
   "source": [
    "* What defines conditionals?\n",
    "* What's the point of comditionals?\n",
    "* Why do conditionals matter?"
   ]
  },
  {
   "cell_type": "code",
   "execution_count": 1,
   "metadata": {
    "collapsed": false
   },
   "outputs": [
    {
     "name": "stdout",
     "output_type": "stream",
     "text": [
      "Order Salade\n"
     ]
    }
   ],
   "source": [
    "# Can elsa eat this?\n",
    "taste = 'good'\n",
    "calories = 350\n",
    "\n",
    "print(\"Eat Chococake!\" if taste == 'good' and calories < 300 else \"Order Salade\")"
   ]
  },
  {
   "cell_type": "markdown",
   "metadata": {},
   "source": [
    "# If, Else and Elif "
   ]
  },
  {
   "cell_type": "markdown",
   "metadata": {},
   "source": [
    "* What keyword does python give us to specify conditions?"
   ]
  },
  {
   "cell_type": "code",
   "execution_count": 3,
   "metadata": {
    "collapsed": true
   },
   "outputs": [],
   "source": [
    "# If this, else What?\n",
    "if calories < 350:\n",
    "    print(\"Eat\")"
   ]
  },
  {
   "cell_type": "code",
   "execution_count": 4,
   "metadata": {
    "collapsed": false
   },
   "outputs": [
    {
     "name": "stdout",
     "output_type": "stream",
     "text": [
      "Order Salad\n"
     ]
    }
   ],
   "source": [
    "# if this, then what?\n",
    "if calories < 300:\n",
    "    print(\"Eat\")\n",
    "else:\n",
    "    print('Order Salad')"
   ]
  },
  {
   "cell_type": "code",
   "execution_count": 5,
   "metadata": {
    "collapsed": false
   },
   "outputs": [
    {
     "name": "stdout",
     "output_type": "stream",
     "text": [
      "Just this time\n"
     ]
    }
   ],
   "source": [
    "# if this, else this, then what?\n",
    "if calories < 300:\n",
    "    print(\"Eat\")\n",
    "elif calories == 350:\n",
    "    print('Just this time')\n",
    "else:\n",
    "    print('Order Salad')"
   ]
  },
  {
   "cell_type": "markdown",
   "metadata": {},
   "source": [
    "# Decision Trees "
   ]
  },
  {
   "cell_type": "markdown",
   "metadata": {},
   "source": [
    "* How do we handle multiple conditions?\n",
    "* What is flow control?"
   ]
  },
  {
   "cell_type": "code",
   "execution_count": 6,
   "metadata": {
    "collapsed": true
   },
   "outputs": [],
   "source": [
    "# specift\n",
    "elsa_age = 21\n",
    "anna_age = 17"
   ]
  },
  {
   "cell_type": "code",
   "execution_count": null,
   "metadata": {
    "collapsed": true
   },
   "outputs": [],
   "source": [
    "# What fun "
   ]
  }
 ],
 "metadata": {
  "anaconda-cloud": {},
  "kernelspec": {
   "display_name": "Python [default]",
   "language": "python",
   "name": "python3"
  },
  "language_info": {
   "codemirror_mode": {
    "name": "ipython",
    "version": 3
   },
   "file_extension": ".py",
   "mimetype": "text/x-python",
   "name": "python",
   "nbconvert_exporter": "python",
   "pygments_lexer": "ipython3",
   "version": "3.5.2"
  }
 },
 "nbformat": 4,
 "nbformat_minor": 1
}
